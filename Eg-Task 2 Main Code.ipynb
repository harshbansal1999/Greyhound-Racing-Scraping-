{
 "cells": [
  {
   "cell_type": "code",
   "execution_count": 1,
   "metadata": {},
   "outputs": [],
   "source": [
    "#Libraries\n",
    "from bs4 import BeautifulSoup\n",
    "from selenium import webdriver\n",
    "import requests\n",
    "import time\n",
    "import pandas as pd\n",
    "import numpy as np\n",
    "import pickle\n",
    "import re\n",
    "import matplotlib.pyplot as plt\n",
    "import seaborn as sns"
   ]
  },
  {
   "cell_type": "markdown",
   "metadata": {},
   "source": [
    "# Links "
   ]
  },
  {
   "cell_type": "code",
   "execution_count": null,
   "metadata": {},
   "outputs": [],
   "source": [
    "driver = webdriver.Chrome(executable_path=r'C:\\chromedriver_win32\\chromedriver.exe')\n",
    "links=[]\n",
    "\n",
    "for i in range(1,114):\n",
    "    url='https://www.igb.ie/results/?FromDate=01-Jan-2018&ToDate=01-Sep-2019&stadium=&page={}'.format(i)\n",
    "\n",
    "    driver.get(url)\n",
    "\n",
    "    soup=BeautifulSoup(driver.page_source,'lxml')\n",
    "\n",
    "    content=soup.find('table',class_='igb-tbl')\n",
    "\n",
    "    \n",
    "    for x in content.find_all('a'):\n",
    "        link1=x['href']\n",
    "        links.append(\"https://www.igb.ie\"+link1)"
   ]
  },
  {
   "cell_type": "code",
   "execution_count": null,
   "metadata": {},
   "outputs": [],
   "source": [
    "len(links)"
   ]
  },
  {
   "cell_type": "code",
   "execution_count": null,
   "metadata": {},
   "outputs": [],
   "source": [
    "links_df=pd.DataFrame(np.zeros(2822).reshape((2822,1)),columns=['Links'])\n",
    "links_df['Links']=links\n",
    "links_df.to_csv('Links_County.csv')"
   ]
  },
  {
   "cell_type": "code",
   "execution_count": 2,
   "metadata": {},
   "outputs": [],
   "source": [
    "links_df=pd.read_csv('links_county.csv')\n",
    "\n",
    "links=[]\n",
    "for i in range(len(links_df)):\n",
    "    links.append(links_df['Links'][i])"
   ]
  },
  {
   "cell_type": "code",
   "execution_count": 3,
   "metadata": {},
   "outputs": [
    {
     "data": {
      "text/plain": [
       "2822"
      ]
     },
     "execution_count": 3,
     "metadata": {},
     "output_type": "execute_result"
    }
   ],
   "source": [
    "len(links)"
   ]
  },
  {
   "cell_type": "markdown",
   "metadata": {},
   "source": [
    "# Scraping Data from tables"
   ]
  },
  {
   "cell_type": "code",
   "execution_count": 6,
   "metadata": {},
   "outputs": [],
   "source": [
    "data=[]\n",
    "link1=[]\n",
    "race_name_temp=[]\n",
    "race_name=[]\n",
    "e=0\n",
    "\n",
    "for s in range(len(links)):\n",
    "    res=requests.get(links[s])\n",
    "    soup=BeautifulSoup(res.text)\n",
    "    \n",
    "    for i in soup.select('body div.body-lock section.strip div div div div.col-12.col-offset-1.t-header div div div.clearfix div:nth-child(5)'):\n",
    "        \n",
    "        for k in i.find_all('div',class_='col-13'):\n",
    "            race_name_temp.append(k.text.strip())\n",
    "            \n",
    "        for j in i.find_all('table',class_='igb-tbl'):\n",
    "            try:\n",
    "                a=j.find_all('tr')[1]\n",
    "                z=a.find_all('td')\n",
    "                row=[w.text for w in z]\n",
    "                race_name.append(race_name_temp[e])\n",
    "                data.append(row)\n",
    "                link1.append(links[s])\n",
    "                e=e+1\n",
    "            except IndexError:\n",
    "                e=e+1\n",
    "                break\n",
    "        e=0\n",
    "        race_name_temp=[]"
   ]
  },
  {
   "cell_type": "code",
   "execution_count": 7,
   "metadata": {},
   "outputs": [
    {
     "data": {
      "text/plain": [
       "(28783, 28783, 28783)"
      ]
     },
     "execution_count": 7,
     "metadata": {},
     "output_type": "execute_result"
    }
   ],
   "source": [
    "len(data),len(race_name),len(link1)"
   ]
  },
  {
   "cell_type": "code",
   "execution_count": 289,
   "metadata": {},
   "outputs": [],
   "source": [
    "with open(\"./Ireland Data/data.txt\", \"wb\") as fp:\n",
    "    pickle.dump(data, fp)\n",
    "\n",
    "with open(\"./Ireland Data/race_name.txt\", \"wb\") as fp:\n",
    "    pickle.dump(race_name, fp)\n",
    "    \n",
    "with open(\"./Ireland Data/links.txt\", \"wb\") as fp:\n",
    "    pickle.dump(link1, fp)"
   ]
  },
  {
   "cell_type": "code",
   "execution_count": 184,
   "metadata": {},
   "outputs": [],
   "source": [
    "with open(\"./Ireland Data/data.txt\", \"rb\") as fp:\n",
    "    data = pickle.load(fp)\n",
    "with open(\"./Ireland Data/race_name.txt\", \"rb\") as fp:\n",
    "    race_name = pickle.load(fp)\n",
    "with open(\"./Ireland Data/links.txt\", \"rb\") as fp:\n",
    "    link1 = pickle.load(fp)"
   ]
  },
  {
   "cell_type": "markdown",
   "metadata": {},
   "source": [
    "# Data Pre-Processing and cleaning"
   ]
  },
  {
   "cell_type": "code",
   "execution_count": 185,
   "metadata": {},
   "outputs": [],
   "source": [
    "df=pd.DataFrame(data)\n",
    "Race_Name=pd.DataFrame(race_name)\n",
    "Links_1=pd.DataFrame(link1)"
   ]
  },
  {
   "cell_type": "code",
   "execution_count": 186,
   "metadata": {},
   "outputs": [],
   "source": [
    "df.columns=['Position','Trap','Greyhound','Sire Name','Dam Name','Prize','WT.','Win Time','By',\n",
    "            'Going','EST Time','SP','Grade','Comm.']"
   ]
  },
  {
   "cell_type": "code",
   "execution_count": 187,
   "metadata": {},
   "outputs": [],
   "source": [
    "df['Race Name']=Race_Name[0]\n",
    "df['Link']=Links_1"
   ]
  },
  {
   "cell_type": "code",
   "execution_count": 188,
   "metadata": {},
   "outputs": [],
   "source": [
    "df['Date']=df['Link'].apply(lambda x:x[56:])\n",
    "df['County']=df['Link'].apply(lambda x:x[47:50])\n",
    "df['Distance']=df['Race Name'].apply(lambda x:x[-3:])\n",
    "df['EST Time']=df['EST Time'].apply(lambda x:x[:5])\n",
    "df['Prize']=df['Prize'].replace({'€':''}, regex=True)"
   ]
  },
  {
   "cell_type": "code",
   "execution_count": 189,
   "metadata": {},
   "outputs": [],
   "source": [
    "def z(s):\n",
    "    if(s=='SPK'):\n",
    "        return('Shelbourne Park')\n",
    "    elif(s=='TRL'):\n",
    "        return('Tralee')\n",
    "    elif(s=='LMK'):\n",
    "        return('Limerick')\n",
    "    elif(s=='CRK'):\n",
    "        return('Curraheen Park')\n",
    "    elif(s=='YGL'):\n",
    "        return('YOUGHAL')\n",
    "    elif(s=='MGR'):\n",
    "        return('MULLINGAR')\n",
    "    elif(s=='DLK'):\n",
    "        return('Dundalk')\n",
    "    elif(s=='GLY'):\n",
    "        return('GALWAY')\n",
    "    elif(s=='WFD'):\n",
    "        return('WATERFORD')\n",
    "    elif(s=='CML'):\n",
    "        return('CLONMEL')\n",
    "    elif(s=='KKY'):\n",
    "        return('KILKENNY')\n",
    "    elif(s=='ECY'):\n",
    "        return('ENNISCORTHY')\n",
    "    elif(s=='LGD'):\n",
    "        return('LONGFORD')\n",
    "    elif(s=='DBP'):\n",
    "        return('DRUMBO PARK')\n",
    "    elif(s=='LFD'):\n",
    "        return('LIFFORD')\n",
    "    elif(s=='NWB'):\n",
    "        return('NEWBRIDGE')\n",
    "    elif(s=='THR'):\n",
    "        return('THURLES PARK')\n",
    "    elif(s=='DRY'):\n",
    "        return('DERRY')\n",
    "    else:\n",
    "        return('Not Mentioned')\n",
    "    \n",
    "df['County']=df['County'].apply(z)"
   ]
  },
  {
   "cell_type": "code",
   "execution_count": 190,
   "metadata": {},
   "outputs": [],
   "source": [
    "df['SP'] = df['SP'].str.replace(r'[^\\d.]+', '')\n",
    "df['SP'][df['SP']==\"\"]='01'\n",
    "for i in range(len(df)):\n",
    "    if(len(df['SP'][i])==2):\n",
    "        a=df['SP'][i]\n",
    "        q,w=a[0],a[1]\n",
    "        q=float(q)\n",
    "        w=float(w)\n",
    "        try:\n",
    "            c=q/w\n",
    "        except ZeroDivisionError:\n",
    "            c=0\n",
    "        df['SP'][i]=c\n",
    "    else:\n",
    "        df['SP'][i]=0"
   ]
  },
  {
   "cell_type": "code",
   "execution_count": 191,
   "metadata": {},
   "outputs": [],
   "source": [
    "df=df[df['EST Time']!='-']\n",
    "df=df[df['SP']!=0]"
   ]
  },
  {
   "cell_type": "code",
   "execution_count": 318,
   "metadata": {},
   "outputs": [
    {
     "name": "stdout",
     "output_type": "stream",
     "text": [
      "Rejection: 7 points\n",
      "z_score of 5 corresponds to prob of 0.00%\n"
     ]
    },
    {
     "data": {
      "text/plain": [
       "<matplotlib.legend.Legend at 0x26ebf9a77c8>"
      ]
     },
     "execution_count": 318,
     "metadata": {},
     "output_type": "execute_result"
    },
    {
     "data": {
      "image/png": "[encoded data removed]",
      "text/plain": [
       "<Figure size 720x360 with 1 Axes>"
      ]
     },
     "metadata": {
      "needs_background": "light"
     },
     "output_type": "display_data"
    }
   ],
   "source": [
    "data=df\n",
    "#Outliers Detection\n",
    "mean,std=np.mean(data['SP']),np.std(data['SP'])\n",
    "z_score=np.abs((data['SP']-mean)/std)\n",
    "threshold=5\n",
    "good=z_score<threshold\n",
    "print(f'Rejection: {(~good).sum()} points')\n",
    "\n",
    "from scipy.stats import norm\n",
    "print(f\"z_score of 5 corresponds to prob of {100*2*norm.sf(threshold):0.2f}%\")\n",
    "visual_scatter=np.random.normal(size=data['SP'].size)\n",
    "\n",
    "plt.figure(figsize=(10,5))\n",
    "plt.scatter(data['SP'][good],visual_scatter[good],s=2,label='Good',color='#4CAF50')\n",
    "plt.scatter(data['SP'][~good],visual_scatter[~good],s=2,label='BAD',color='#F44336')\n",
    "plt.legend()"
   ]
  },
  {
   "cell_type": "code",
   "execution_count": 320,
   "metadata": {},
   "outputs": [
    {
     "name": "stdout",
     "output_type": "stream",
     "text": [
      "Rejection: 7 points\n",
      "z_score of 6 corresponds to prob of 0.00%\n"
     ]
    },
    {
     "data": {
      "text/plain": [
       "<matplotlib.legend.Legend at 0x26ebfa32c88>"
      ]
     },
     "execution_count": 320,
     "metadata": {},
     "output_type": "execute_result"
    },
    {
     "data": {
      "image/png": "[encoded data removed]",
      "text/plain": [
       "<Figure size 720x360 with 1 Axes>"
      ]
     },
     "metadata": {
      "needs_background": "light"
     },
     "output_type": "display_data"
    }
   ],
   "source": [
    "data=df\n",
    "#Outliers Detection\n",
    "mean,std=np.mean(data['EST Time']),np.std(data['EST Time'])\n",
    "z_score=np.abs((data['EST Time']-mean)/std)\n",
    "threshold=6\n",
    "good=z_score<threshold\n",
    "print(f'Rejection: {(~good).sum()} points')\n",
    "\n",
    "from scipy.stats import norm\n",
    "print(f\"z_score of 6 corresponds to prob of {100*2*norm.sf(threshold):0.2f}%\")\n",
    "visual_scatter=np.random.normal(size=data['EST Time'].size)\n",
    "\n",
    "plt.figure(figsize=(10,5))\n",
    "plt.scatter(data['EST Time'][good],visual_scatter[good],s=2,label='Good',color='#4CAF50')\n",
    "plt.scatter(data['EST Time'][~good],visual_scatter[~good],s=2,label='BAD',color='#F44336')\n",
    "plt.legend()"
   ]
  },
  {
   "cell_type": "code",
   "execution_count": 333,
   "metadata": {},
   "outputs": [
    {
     "name": "stdout",
     "output_type": "stream",
     "text": [
      "Rejection: 16 points\n",
      "z_score of 3 corresponds to prob of 0.27%\n"
     ]
    },
    {
     "data": {
      "text/plain": [
       "<matplotlib.legend.Legend at 0x26ebfc182c8>"
      ]
     },
     "execution_count": 333,
     "metadata": {},
     "output_type": "execute_result"
    },
    {
     "data": {
      "image/png": "[encoded data removed]",
      "text/plain": [
       "<Figure size 720x360 with 1 Axes>"
      ]
     },
     "metadata": {
      "needs_background": "light"
     },
     "output_type": "display_data"
    }
   ],
   "source": [
    "data=df\n",
    "#Outliers Detection\n",
    "mean,std=np.mean(data['WT.']),np.std(data['WT.'])\n",
    "z_score=np.abs((data['WT.']-mean)/std)\n",
    "threshold=3\n",
    "good=z_score<threshold\n",
    "print(f'Rejection: {(~good).sum()} points')\n",
    "\n",
    "from scipy.stats import norm\n",
    "print(f\"z_score of 3 corresponds to prob of {100*2*norm.sf(threshold):0.2f}%\")\n",
    "visual_scatter=np.random.normal(size=data['WT.'].size)\n",
    "\n",
    "plt.figure(figsize=(10,5))\n",
    "plt.scatter(data['WT.'][good],visual_scatter[good],s=2,label='Good',color='#4CAF50')\n",
    "plt.scatter(data['WT.'][~good],visual_scatter[~good],s=2,label='BAD',color='#F44336')\n",
    "plt.legend()"
   ]
  },
  {
   "cell_type": "code",
   "execution_count": 334,
   "metadata": {},
   "outputs": [
    {
     "name": "stdout",
     "output_type": "stream",
     "text": [
      "Rejection: 138 points\n",
      "z_score of 3 corresponds to prob of 0.27%\n"
     ]
    },
    {
     "data": {
      "text/plain": [
       "<matplotlib.legend.Legend at 0x26ec03036c8>"
      ]
     },
     "execution_count": 334,
     "metadata": {},
     "output_type": "execute_result"
    },
    {
     "data": {
      "image/png": "[encoded data removed]",
      "text/plain": [
       "<Figure size 720x360 with 1 Axes>"
      ]
     },
     "metadata": {
      "needs_background": "light"
     },
     "output_type": "display_data"
    }
   ],
   "source": [
    "data=df\n",
    "#Outliers Detection\n",
    "mean,std=np.mean(data['Prize']),np.std(data['Prize'])\n",
    "z_score=np.abs((data['Prize']-mean)/std)\n",
    "threshold=3\n",
    "good=z_score<threshold\n",
    "print(f'Rejection: {(~good).sum()} points')\n",
    "\n",
    "from scipy.stats import norm\n",
    "print(f\"z_score of 3 corresponds to prob of {100*2*norm.sf(threshold):0.2f}%\")\n",
    "visual_scatter=np.random.normal(size=data['Prize'].size)\n",
    "\n",
    "plt.figure(figsize=(10,5))\n",
    "plt.scatter(data['Prize'][good],visual_scatter[good],s=2,label='Good',color='#4CAF50')\n",
    "plt.scatter(data['Prize'][~good],visual_scatter[~good],s=2,label='BAD',color='#F44336')\n",
    "plt.legend()"
   ]
  },
  {
   "cell_type": "code",
   "execution_count": 299,
   "metadata": {},
   "outputs": [
    {
     "name": "stderr",
     "output_type": "stream",
     "text": [
      "C:\\Users\\asus\\Anaconda3\\lib\\site-packages\\ipykernel_launcher.py:1: SettingWithCopyWarning: \n",
      "A value is trying to be set on a copy of a slice from a DataFrame.\n",
      "Try using .loc[row_indexer,col_indexer] = value instead\n",
      "\n",
      "See the caveats in the documentation: http://pandas.pydata.org/pandas-docs/stable/user_guide/indexing.html#returning-a-view-versus-a-copy\n",
      "  \"\"\"Entry point for launching an IPython kernel.\n",
      "C:\\Users\\asus\\Anaconda3\\lib\\site-packages\\ipykernel_launcher.py:2: SettingWithCopyWarning: \n",
      "A value is trying to be set on a copy of a slice from a DataFrame.\n",
      "Try using .loc[row_indexer,col_indexer] = value instead\n",
      "\n",
      "See the caveats in the documentation: http://pandas.pydata.org/pandas-docs/stable/user_guide/indexing.html#returning-a-view-versus-a-copy\n",
      "  \n",
      "C:\\Users\\asus\\Anaconda3\\lib\\site-packages\\ipykernel_launcher.py:3: SettingWithCopyWarning: \n",
      "A value is trying to be set on a copy of a slice from a DataFrame.\n",
      "Try using .loc[row_indexer,col_indexer] = value instead\n",
      "\n",
      "See the caveats in the documentation: http://pandas.pydata.org/pandas-docs/stable/user_guide/indexing.html#returning-a-view-versus-a-copy\n",
      "  This is separate from the ipykernel package so we can avoid doing imports until\n",
      "C:\\Users\\asus\\Anaconda3\\lib\\site-packages\\ipykernel_launcher.py:4: SettingWithCopyWarning: \n",
      "A value is trying to be set on a copy of a slice from a DataFrame.\n",
      "Try using .loc[row_indexer,col_indexer] = value instead\n",
      "\n",
      "See the caveats in the documentation: http://pandas.pydata.org/pandas-docs/stable/user_guide/indexing.html#returning-a-view-versus-a-copy\n",
      "  after removing the cwd from sys.path.\n",
      "C:\\Users\\asus\\Anaconda3\\lib\\site-packages\\ipykernel_launcher.py:5: SettingWithCopyWarning: \n",
      "A value is trying to be set on a copy of a slice from a DataFrame.\n",
      "Try using .loc[row_indexer,col_indexer] = value instead\n",
      "\n",
      "See the caveats in the documentation: http://pandas.pydata.org/pandas-docs/stable/user_guide/indexing.html#returning-a-view-versus-a-copy\n",
      "  \"\"\"\n",
      "C:\\Users\\asus\\Anaconda3\\lib\\site-packages\\ipykernel_launcher.py:6: SettingWithCopyWarning: \n",
      "A value is trying to be set on a copy of a slice from a DataFrame.\n",
      "Try using .loc[row_indexer,col_indexer] = value instead\n",
      "\n",
      "See the caveats in the documentation: http://pandas.pydata.org/pandas-docs/stable/user_guide/indexing.html#returning-a-view-versus-a-copy\n",
      "  \n"
     ]
    }
   ],
   "source": [
    "df['Distance']=df['Distance'].astype(float)\n",
    "df['Prize']=df['Prize'].astype(float)\n",
    "df['WT.']=df['WT.'].astype(float)\n",
    "df['Win Time']=df['Win Time'].astype(float)\n",
    "df['EST Time']=df['EST Time'].astype(float)\n",
    "df['SP']=df['SP'].astype(float)"
   ]
  },
  {
   "cell_type": "code",
   "execution_count": null,
   "metadata": {},
   "outputs": [],
   "source": [
    "df=df[df['Prize']<5000]\n",
    "df=df[df['SP']<8]\n",
    "df=df[df['EST Time']<55]"
   ]
  },
  {
   "cell_type": "code",
   "execution_count": 300,
   "metadata": {},
   "outputs": [],
   "source": [
    "df.to_csv('./Ireland Data/Final_Data.csv')"
   ]
  },
  {
   "cell_type": "markdown",
   "metadata": {},
   "source": [
    "# Analysis"
   ]
  },
  {
   "cell_type": "code",
   "execution_count": 343,
   "metadata": {},
   "outputs": [
    {
     "data": {
      "text/html": [
       "<div>\n",
       "<style scoped>\n",
       "    .dataframe tbody tr th:only-of-type {\n",
       "        vertical-align: middle;\n",
       "    }\n",
       "\n",
       "    .dataframe tbody tr th {\n",
       "        vertical-align: top;\n",
       "    }\n",
       "\n",
       "    .dataframe thead th {\n",
       "        text-align: right;\n",
       "    }\n",
       "</style>\n",
       "<table border=\"1\" class=\"dataframe\">\n",
       "  <thead>\n",
       "    <tr style=\"text-align: right;\">\n",
       "      <th></th>\n",
       "      <th>Prize</th>\n",
       "      <th>WT.</th>\n",
       "      <th>Win Time</th>\n",
       "      <th>EST Time</th>\n",
       "      <th>SP</th>\n",
       "      <th>Distance</th>\n",
       "    </tr>\n",
       "  </thead>\n",
       "  <tbody>\n",
       "    <tr>\n",
       "      <td>count</td>\n",
       "      <td>27109.000000</td>\n",
       "      <td>27109.000000</td>\n",
       "      <td>27109.00000</td>\n",
       "      <td>27109.000000</td>\n",
       "      <td>27109.000000</td>\n",
       "      <td>27109.000000</td>\n",
       "    </tr>\n",
       "    <tr>\n",
       "      <td>mean</td>\n",
       "      <td>269.415797</td>\n",
       "      <td>68.217935</td>\n",
       "      <td>27.56805</td>\n",
       "      <td>27.448922</td>\n",
       "      <td>2.323613</td>\n",
       "      <td>494.364233</td>\n",
       "    </tr>\n",
       "    <tr>\n",
       "      <td>std</td>\n",
       "      <td>251.961914</td>\n",
       "      <td>7.094720</td>\n",
       "      <td>4.55169</td>\n",
       "      <td>4.504462</td>\n",
       "      <td>1.188371</td>\n",
       "      <td>79.270090</td>\n",
       "    </tr>\n",
       "    <tr>\n",
       "      <td>min</td>\n",
       "      <td>0.000000</td>\n",
       "      <td>48.000000</td>\n",
       "      <td>14.82000</td>\n",
       "      <td>14.820000</td>\n",
       "      <td>0.125000</td>\n",
       "      <td>25.000000</td>\n",
       "    </tr>\n",
       "    <tr>\n",
       "      <td>25%</td>\n",
       "      <td>150.000000</td>\n",
       "      <td>62.000000</td>\n",
       "      <td>28.65000</td>\n",
       "      <td>28.650000</td>\n",
       "      <td>1.500000</td>\n",
       "      <td>525.000000</td>\n",
       "    </tr>\n",
       "    <tr>\n",
       "      <td>50%</td>\n",
       "      <td>285.000000</td>\n",
       "      <td>69.000000</td>\n",
       "      <td>29.23000</td>\n",
       "      <td>29.120000</td>\n",
       "      <td>2.000000</td>\n",
       "      <td>525.000000</td>\n",
       "    </tr>\n",
       "    <tr>\n",
       "      <td>75%</td>\n",
       "      <td>325.000000</td>\n",
       "      <td>74.000000</td>\n",
       "      <td>29.68000</td>\n",
       "      <td>29.460000</td>\n",
       "      <td>3.000000</td>\n",
       "      <td>525.000000</td>\n",
       "    </tr>\n",
       "    <tr>\n",
       "      <td>max</td>\n",
       "      <td>4700.000000</td>\n",
       "      <td>94.000000</td>\n",
       "      <td>60.22000</td>\n",
       "      <td>60.220000</td>\n",
       "      <td>7.000000</td>\n",
       "      <td>900.000000</td>\n",
       "    </tr>\n",
       "  </tbody>\n",
       "</table>\n",
       "</div>"
      ],
      "text/plain": [
       "              Prize           WT.     Win Time      EST Time            SP  \\\n",
       "count  27109.000000  27109.000000  27109.00000  27109.000000  27109.000000   \n",
       "mean     269.415797     68.217935     27.56805     27.448922      2.323613   \n",
       "std      251.961914      7.094720      4.55169      4.504462      1.188371   \n",
       "min        0.000000     48.000000     14.82000     14.820000      0.125000   \n",
       "25%      150.000000     62.000000     28.65000     28.650000      1.500000   \n",
       "50%      285.000000     69.000000     29.23000     29.120000      2.000000   \n",
       "75%      325.000000     74.000000     29.68000     29.460000      3.000000   \n",
       "max     4700.000000     94.000000     60.22000     60.220000      7.000000   \n",
       "\n",
       "           Distance  \n",
       "count  27109.000000  \n",
       "mean     494.364233  \n",
       "std       79.270090  \n",
       "min       25.000000  \n",
       "25%      525.000000  \n",
       "50%      525.000000  \n",
       "75%      525.000000  \n",
       "max      900.000000  "
      ]
     },
     "execution_count": 343,
     "metadata": {},
     "output_type": "execute_result"
    }
   ],
   "source": [
    "df.describe()"
   ]
  },
  {
   "cell_type": "code",
   "execution_count": 303,
   "metadata": {},
   "outputs": [
    {
     "data": {
      "text/plain": [
       "Shelbourne Park    3546\n",
       "Tralee             3047\n",
       "Limerick           1947\n",
       "Curraheen Park     1941\n",
       "MULLINGAR          1763\n",
       "YOUGHAL            1607\n",
       "GALWAY             1540\n",
       "Dundalk            1525\n",
       "WATERFORD          1489\n",
       "KILKENNY           1349\n",
       "ENNISCORTHY        1224\n",
       "CLONMEL            1097\n",
       "LONGFORD           1076\n",
       "DRUMBO PARK         981\n",
       "LIFFORD             933\n",
       "NEWBRIDGE           888\n",
       "THURLES PARK        795\n",
       "DERRY               551\n",
       "Name: County, dtype: int64"
      ]
     },
     "execution_count": 303,
     "metadata": {},
     "output_type": "execute_result"
    }
   ],
   "source": [
    "df['County'].value_counts()"
   ]
  },
  {
   "cell_type": "code",
   "execution_count": 304,
   "metadata": {},
   "outputs": [
    {
     "data": {
      "text/plain": [
       "<matplotlib.axes._subplots.AxesSubplot at 0x26eb8938988>"
      ]
     },
     "execution_count": 304,
     "metadata": {},
     "output_type": "execute_result"
    },
    {
     "data": {
      "image/png": "[encoded data removed]",
      "text/plain": [
       "<Figure size 1800x720 with 1 Axes>"
      ]
     },
     "metadata": {
      "needs_background": "light"
     },
     "output_type": "display_data"
    }
   ],
   "source": [
    "#County With most appearances\n",
    "plt.figure(figsize=(25,10))\n",
    "sns.countplot(df['County'])"
   ]
  },
  {
   "cell_type": "code",
   "execution_count": 367,
   "metadata": {},
   "outputs": [
    {
     "data": {
      "text/html": [
       "<div>\n",
       "<style scoped>\n",
       "    .dataframe tbody tr th:only-of-type {\n",
       "        vertical-align: middle;\n",
       "    }\n",
       "\n",
       "    .dataframe tbody tr th {\n",
       "        vertical-align: top;\n",
       "    }\n",
       "\n",
       "    .dataframe thead th {\n",
       "        text-align: right;\n",
       "    }\n",
       "</style>\n",
       "<table border=\"1\" class=\"dataframe\">\n",
       "  <thead>\n",
       "    <tr style=\"text-align: right;\">\n",
       "      <th></th>\n",
       "      <th>County</th>\n",
       "      <th>Greyhound</th>\n",
       "      <th>Sire Name</th>\n",
       "      <th>Dam Name</th>\n",
       "      <th>Win Time</th>\n",
       "      <th>EST Time</th>\n",
       "    </tr>\n",
       "  </thead>\n",
       "  <tbody>\n",
       "    <tr>\n",
       "      <td>0</td>\n",
       "      <td>DERRY</td>\n",
       "      <td>RAG DOLLY MOLLY</td>\n",
       "      <td>GODSEND</td>\n",
       "      <td>TYRUR LATOYA</td>\n",
       "      <td>14.82</td>\n",
       "      <td>14.82</td>\n",
       "    </tr>\n",
       "    <tr>\n",
       "      <td>1</td>\n",
       "      <td>CLONMEL</td>\n",
       "      <td>GONE TO GROUND</td>\n",
       "      <td>SUPERIOR PRODUCT</td>\n",
       "      <td>LAUGHIL LUCY</td>\n",
       "      <td>15.95</td>\n",
       "      <td>15.95</td>\n",
       "    </tr>\n",
       "    <tr>\n",
       "      <td>2</td>\n",
       "      <td>CLONMEL</td>\n",
       "      <td>GONE TO GROUND</td>\n",
       "      <td>SUPERIOR PRODUCT</td>\n",
       "      <td>LAUGHIL LUCY</td>\n",
       "      <td>16.03</td>\n",
       "      <td>16.03</td>\n",
       "    </tr>\n",
       "    <tr>\n",
       "      <td>3</td>\n",
       "      <td>CLONMEL</td>\n",
       "      <td>BRYNOFFA CINDY</td>\n",
       "      <td>SHANEBOY LEE</td>\n",
       "      <td>EMMA HONEY</td>\n",
       "      <td>16.05</td>\n",
       "      <td>16.05</td>\n",
       "    </tr>\n",
       "    <tr>\n",
       "      <td>4</td>\n",
       "      <td>CLONMEL</td>\n",
       "      <td>PIEMANS DART</td>\n",
       "      <td>SCOLARI ME DADDY</td>\n",
       "      <td>CASTLE SPIRIT</td>\n",
       "      <td>16.05</td>\n",
       "      <td>16.05</td>\n",
       "    </tr>\n",
       "    <tr>\n",
       "      <td>5</td>\n",
       "      <td>CLONMEL</td>\n",
       "      <td>KNOCKDUFF DECLAN</td>\n",
       "      <td>ROMEO RECRUIT</td>\n",
       "      <td>WHITEYS JEWEL</td>\n",
       "      <td>16.07</td>\n",
       "      <td>16.07</td>\n",
       "    </tr>\n",
       "    <tr>\n",
       "      <td>6</td>\n",
       "      <td>CLONMEL</td>\n",
       "      <td>ROCKYS PRIDE</td>\n",
       "      <td>LAUGHIL BLAKE</td>\n",
       "      <td>BALLYROBIN SABLE</td>\n",
       "      <td>16.08</td>\n",
       "      <td>16.08</td>\n",
       "    </tr>\n",
       "    <tr>\n",
       "      <td>7</td>\n",
       "      <td>CLONMEL</td>\n",
       "      <td>BRYNOFFA SPY</td>\n",
       "      <td>HOLDEM SPY</td>\n",
       "      <td>EMMA HONEY</td>\n",
       "      <td>16.09</td>\n",
       "      <td>16.09</td>\n",
       "    </tr>\n",
       "    <tr>\n",
       "      <td>8</td>\n",
       "      <td>CLONMEL</td>\n",
       "      <td>TIVOLI ROSE</td>\n",
       "      <td>LAUGHIL BLAKE</td>\n",
       "      <td>TIVOLI MAEVE</td>\n",
       "      <td>16.09</td>\n",
       "      <td>16.09</td>\n",
       "    </tr>\n",
       "    <tr>\n",
       "      <td>9</td>\n",
       "      <td>CLONMEL</td>\n",
       "      <td>ART OF SPEED</td>\n",
       "      <td>TYRUR BIG MIKE</td>\n",
       "      <td>LAUGHIL LIZ</td>\n",
       "      <td>16.11</td>\n",
       "      <td>16.01</td>\n",
       "    </tr>\n",
       "    <tr>\n",
       "      <td>10</td>\n",
       "      <td>CLONMEL</td>\n",
       "      <td>GEELO CARLOS</td>\n",
       "      <td>FARLOE BLITZ</td>\n",
       "      <td>JUMBOS MEGA</td>\n",
       "      <td>16.12</td>\n",
       "      <td>16.12</td>\n",
       "    </tr>\n",
       "    <tr>\n",
       "      <td>11</td>\n",
       "      <td>CLONMEL</td>\n",
       "      <td>ARCHGROVE JOSIE</td>\n",
       "      <td>ZERO TEN</td>\n",
       "      <td>FIONAS STAR</td>\n",
       "      <td>16.13</td>\n",
       "      <td>16.03</td>\n",
       "    </tr>\n",
       "    <tr>\n",
       "      <td>12</td>\n",
       "      <td>CLONMEL</td>\n",
       "      <td>TIVOLI ROSE</td>\n",
       "      <td>LAUGHIL BLAKE</td>\n",
       "      <td>TIVOLI MAEVE</td>\n",
       "      <td>16.13</td>\n",
       "      <td>16.13</td>\n",
       "    </tr>\n",
       "    <tr>\n",
       "      <td>13</td>\n",
       "      <td>CLONMEL</td>\n",
       "      <td>RYECOURT VIXEN</td>\n",
       "      <td>SIR PADDY</td>\n",
       "      <td>RYECOURT FOX</td>\n",
       "      <td>16.14</td>\n",
       "      <td>16.14</td>\n",
       "    </tr>\n",
       "    <tr>\n",
       "      <td>14</td>\n",
       "      <td>CLONMEL</td>\n",
       "      <td>ANOTHER MACHINE</td>\n",
       "      <td>ROYAL IMPACT</td>\n",
       "      <td>SARAHS TURBO</td>\n",
       "      <td>16.15</td>\n",
       "      <td>16.15</td>\n",
       "    </tr>\n",
       "    <tr>\n",
       "      <td>15</td>\n",
       "      <td>CLONMEL</td>\n",
       "      <td>GALLOPING MIKE</td>\n",
       "      <td>TYRUR BIG MIKE</td>\n",
       "      <td>GALLOPING MAEVE</td>\n",
       "      <td>16.16</td>\n",
       "      <td>16.06</td>\n",
       "    </tr>\n",
       "    <tr>\n",
       "      <td>16</td>\n",
       "      <td>CLONMEL</td>\n",
       "      <td>ARCHGROVE RONNIE</td>\n",
       "      <td>BOHERNA HOUSE</td>\n",
       "      <td>ARCHGROVE MILLIE</td>\n",
       "      <td>16.19</td>\n",
       "      <td>16.19</td>\n",
       "    </tr>\n",
       "    <tr>\n",
       "      <td>17</td>\n",
       "      <td>CLONMEL</td>\n",
       "      <td>PENNYS SHAHTOUSH</td>\n",
       "      <td>DEANRIDGE VIKING</td>\n",
       "      <td>HARE ST SPARKLER</td>\n",
       "      <td>16.20</td>\n",
       "      <td>16.20</td>\n",
       "    </tr>\n",
       "    <tr>\n",
       "      <td>18</td>\n",
       "      <td>CLONMEL</td>\n",
       "      <td>ANOTHER MACHINE</td>\n",
       "      <td>ROYAL IMPACT</td>\n",
       "      <td>SARAHS TURBO</td>\n",
       "      <td>16.20</td>\n",
       "      <td>16.20</td>\n",
       "    </tr>\n",
       "    <tr>\n",
       "      <td>19</td>\n",
       "      <td>CLONMEL</td>\n",
       "      <td>EIFFEL TOWER</td>\n",
       "      <td>SUPERIOR PRODUCT</td>\n",
       "      <td>DERRYADD DIVA</td>\n",
       "      <td>16.21</td>\n",
       "      <td>16.21</td>\n",
       "    </tr>\n",
       "    <tr>\n",
       "      <td>20</td>\n",
       "      <td>CLONMEL</td>\n",
       "      <td>CONGO KELLY</td>\n",
       "      <td>LAUGHIL BLAKE</td>\n",
       "      <td>BULGADEN GYPSY</td>\n",
       "      <td>16.22</td>\n",
       "      <td>16.22</td>\n",
       "    </tr>\n",
       "    <tr>\n",
       "      <td>21</td>\n",
       "      <td>CLONMEL</td>\n",
       "      <td>CONJURING</td>\n",
       "      <td>DROOPYS JET</td>\n",
       "      <td>TWILIGHT TEAR</td>\n",
       "      <td>16.22</td>\n",
       "      <td>16.22</td>\n",
       "    </tr>\n",
       "    <tr>\n",
       "      <td>22</td>\n",
       "      <td>CLONMEL</td>\n",
       "      <td>TARSNA ROSE</td>\n",
       "      <td>TYRUR BIG MIKE</td>\n",
       "      <td>TARSNA DANCEAWAY</td>\n",
       "      <td>16.22</td>\n",
       "      <td>16.12</td>\n",
       "    </tr>\n",
       "    <tr>\n",
       "      <td>23</td>\n",
       "      <td>CLONMEL</td>\n",
       "      <td>TIVOLI ROSE</td>\n",
       "      <td>LAUGHIL BLAKE</td>\n",
       "      <td>TIVOLI MAEVE</td>\n",
       "      <td>16.23</td>\n",
       "      <td>16.23</td>\n",
       "    </tr>\n",
       "    <tr>\n",
       "      <td>24</td>\n",
       "      <td>CLONMEL</td>\n",
       "      <td>TARSNA ROSE</td>\n",
       "      <td>TYRUR BIG MIKE</td>\n",
       "      <td>TARSNA DANCEAWAY</td>\n",
       "      <td>16.23</td>\n",
       "      <td>16.13</td>\n",
       "    </tr>\n",
       "    <tr>\n",
       "      <td>25</td>\n",
       "      <td>CLONMEL</td>\n",
       "      <td>SLANEYSIDE KEYES</td>\n",
       "      <td>STORM CONTROL</td>\n",
       "      <td>LISSIVIGEEN JOY</td>\n",
       "      <td>16.23</td>\n",
       "      <td>16.23</td>\n",
       "    </tr>\n",
       "    <tr>\n",
       "      <td>26</td>\n",
       "      <td>CLONMEL</td>\n",
       "      <td>TIVOLI ROSE</td>\n",
       "      <td>LAUGHIL BLAKE</td>\n",
       "      <td>TIVOLI MAEVE</td>\n",
       "      <td>16.23</td>\n",
       "      <td>16.23</td>\n",
       "    </tr>\n",
       "    <tr>\n",
       "      <td>27</td>\n",
       "      <td>CLONMEL</td>\n",
       "      <td>TOBAR NA NAOMH</td>\n",
       "      <td>KINLOCH BRAE</td>\n",
       "      <td>SHEER CLASSIC</td>\n",
       "      <td>16.24</td>\n",
       "      <td>16.24</td>\n",
       "    </tr>\n",
       "    <tr>\n",
       "      <td>28</td>\n",
       "      <td>CLONMEL</td>\n",
       "      <td>STOUKE BIRD</td>\n",
       "      <td>SHANEBOY LEE</td>\n",
       "      <td>STOUKE SARAH</td>\n",
       "      <td>16.24</td>\n",
       "      <td>16.24</td>\n",
       "    </tr>\n",
       "    <tr>\n",
       "      <td>29</td>\n",
       "      <td>CLONMEL</td>\n",
       "      <td>WILDERNESS GOLD</td>\n",
       "      <td>ROCKIN PAUDIE</td>\n",
       "      <td>SNOWYS BABE</td>\n",
       "      <td>16.25</td>\n",
       "      <td>16.25</td>\n",
       "    </tr>\n",
       "  </tbody>\n",
       "</table>\n",
       "</div>"
      ],
      "text/plain": [
       "     County         Greyhound         Sire Name          Dam Name  Win Time  \\\n",
       "0     DERRY   RAG DOLLY MOLLY           GODSEND      TYRUR LATOYA     14.82   \n",
       "1   CLONMEL    GONE TO GROUND  SUPERIOR PRODUCT      LAUGHIL LUCY     15.95   \n",
       "2   CLONMEL    GONE TO GROUND  SUPERIOR PRODUCT      LAUGHIL LUCY     16.03   \n",
       "3   CLONMEL    BRYNOFFA CINDY      SHANEBOY LEE        EMMA HONEY     16.05   \n",
       "4   CLONMEL      PIEMANS DART  SCOLARI ME DADDY     CASTLE SPIRIT     16.05   \n",
       "5   CLONMEL  KNOCKDUFF DECLAN     ROMEO RECRUIT     WHITEYS JEWEL     16.07   \n",
       "6   CLONMEL      ROCKYS PRIDE     LAUGHIL BLAKE  BALLYROBIN SABLE     16.08   \n",
       "7   CLONMEL      BRYNOFFA SPY        HOLDEM SPY        EMMA HONEY     16.09   \n",
       "8   CLONMEL       TIVOLI ROSE     LAUGHIL BLAKE      TIVOLI MAEVE     16.09   \n",
       "9   CLONMEL      ART OF SPEED    TYRUR BIG MIKE       LAUGHIL LIZ     16.11   \n",
       "10  CLONMEL      GEELO CARLOS      FARLOE BLITZ       JUMBOS MEGA     16.12   \n",
       "11  CLONMEL   ARCHGROVE JOSIE          ZERO TEN       FIONAS STAR     16.13   \n",
       "12  CLONMEL       TIVOLI ROSE     LAUGHIL BLAKE      TIVOLI MAEVE     16.13   \n",
       "13  CLONMEL    RYECOURT VIXEN         SIR PADDY      RYECOURT FOX     16.14   \n",
       "14  CLONMEL   ANOTHER MACHINE      ROYAL IMPACT      SARAHS TURBO     16.15   \n",
       "15  CLONMEL    GALLOPING MIKE    TYRUR BIG MIKE   GALLOPING MAEVE     16.16   \n",
       "16  CLONMEL  ARCHGROVE RONNIE     BOHERNA HOUSE  ARCHGROVE MILLIE     16.19   \n",
       "17  CLONMEL  PENNYS SHAHTOUSH  DEANRIDGE VIKING  HARE ST SPARKLER     16.20   \n",
       "18  CLONMEL   ANOTHER MACHINE      ROYAL IMPACT      SARAHS TURBO     16.20   \n",
       "19  CLONMEL      EIFFEL TOWER  SUPERIOR PRODUCT     DERRYADD DIVA     16.21   \n",
       "20  CLONMEL       CONGO KELLY     LAUGHIL BLAKE    BULGADEN GYPSY     16.22   \n",
       "21  CLONMEL         CONJURING       DROOPYS JET     TWILIGHT TEAR     16.22   \n",
       "22  CLONMEL       TARSNA ROSE    TYRUR BIG MIKE  TARSNA DANCEAWAY     16.22   \n",
       "23  CLONMEL       TIVOLI ROSE     LAUGHIL BLAKE      TIVOLI MAEVE     16.23   \n",
       "24  CLONMEL       TARSNA ROSE    TYRUR BIG MIKE  TARSNA DANCEAWAY     16.23   \n",
       "25  CLONMEL  SLANEYSIDE KEYES     STORM CONTROL   LISSIVIGEEN JOY     16.23   \n",
       "26  CLONMEL       TIVOLI ROSE     LAUGHIL BLAKE      TIVOLI MAEVE     16.23   \n",
       "27  CLONMEL    TOBAR NA NAOMH      KINLOCH BRAE     SHEER CLASSIC     16.24   \n",
       "28  CLONMEL       STOUKE BIRD      SHANEBOY LEE      STOUKE SARAH     16.24   \n",
       "29  CLONMEL   WILDERNESS GOLD     ROCKIN PAUDIE       SNOWYS BABE     16.25   \n",
       "\n",
       "    EST Time  \n",
       "0      14.82  \n",
       "1      15.95  \n",
       "2      16.03  \n",
       "3      16.05  \n",
       "4      16.05  \n",
       "5      16.07  \n",
       "6      16.08  \n",
       "7      16.09  \n",
       "8      16.09  \n",
       "9      16.01  \n",
       "10     16.12  \n",
       "11     16.03  \n",
       "12     16.13  \n",
       "13     16.14  \n",
       "14     16.15  \n",
       "15     16.06  \n",
       "16     16.19  \n",
       "17     16.20  \n",
       "18     16.20  \n",
       "19     16.21  \n",
       "20     16.22  \n",
       "21     16.22  \n",
       "22     16.12  \n",
       "23     16.23  \n",
       "24     16.13  \n",
       "25     16.23  \n",
       "26     16.23  \n",
       "27     16.24  \n",
       "28     16.24  \n",
       "29     16.25  "
      ]
     },
     "execution_count": 367,
     "metadata": {},
     "output_type": "execute_result"
    }
   ],
   "source": [
    "#Fastest Greyhound overall \n",
    "fastest_greyhound_wins=df.loc[:,['County','Greyhound','Sire Name','Dam Name','Win Time','EST Time']].sort_values('Win Time').reset_index().drop('index',axis=1)\n",
    "fastest_greyhound_wins.head(30)"
   ]
  },
  {
   "cell_type": "code",
   "execution_count": 355,
   "metadata": {},
   "outputs": [
    {
     "data": {
      "text/html": [
       "<div>\n",
       "<style scoped>\n",
       "    .dataframe tbody tr th:only-of-type {\n",
       "        vertical-align: middle;\n",
       "    }\n",
       "\n",
       "    .dataframe tbody tr th {\n",
       "        vertical-align: top;\n",
       "    }\n",
       "\n",
       "    .dataframe thead th {\n",
       "        text-align: right;\n",
       "    }\n",
       "</style>\n",
       "<table border=\"1\" class=\"dataframe\">\n",
       "  <thead>\n",
       "    <tr style=\"text-align: right;\">\n",
       "      <th></th>\n",
       "      <th>County</th>\n",
       "      <th>Greyhound</th>\n",
       "      <th>Sire Name</th>\n",
       "      <th>Dam Name</th>\n",
       "      <th>Win Time</th>\n",
       "      <th>EST Time</th>\n",
       "    </tr>\n",
       "  </thead>\n",
       "  <tbody>\n",
       "    <tr>\n",
       "      <td>0</td>\n",
       "      <td>DERRY</td>\n",
       "      <td>RAG DOLLY MOLLY</td>\n",
       "      <td>GODSEND</td>\n",
       "      <td>TYRUR LATOYA</td>\n",
       "      <td>14.82</td>\n",
       "      <td>14.82</td>\n",
       "    </tr>\n",
       "    <tr>\n",
       "      <td>1</td>\n",
       "      <td>CLONMEL</td>\n",
       "      <td>GONE TO GROUND</td>\n",
       "      <td>SUPERIOR PRODUCT</td>\n",
       "      <td>LAUGHIL LUCY</td>\n",
       "      <td>15.95</td>\n",
       "      <td>15.95</td>\n",
       "    </tr>\n",
       "    <tr>\n",
       "      <td>2</td>\n",
       "      <td>CLONMEL</td>\n",
       "      <td>GONE TO GROUND</td>\n",
       "      <td>SUPERIOR PRODUCT</td>\n",
       "      <td>LAUGHIL LUCY</td>\n",
       "      <td>16.03</td>\n",
       "      <td>16.03</td>\n",
       "    </tr>\n",
       "    <tr>\n",
       "      <td>3</td>\n",
       "      <td>CLONMEL</td>\n",
       "      <td>BRYNOFFA CINDY</td>\n",
       "      <td>SHANEBOY LEE</td>\n",
       "      <td>EMMA HONEY</td>\n",
       "      <td>16.05</td>\n",
       "      <td>16.05</td>\n",
       "    </tr>\n",
       "    <tr>\n",
       "      <td>4</td>\n",
       "      <td>CLONMEL</td>\n",
       "      <td>PIEMANS DART</td>\n",
       "      <td>SCOLARI ME DADDY</td>\n",
       "      <td>CASTLE SPIRIT</td>\n",
       "      <td>16.05</td>\n",
       "      <td>16.05</td>\n",
       "    </tr>\n",
       "    <tr>\n",
       "      <td>5</td>\n",
       "      <td>CLONMEL</td>\n",
       "      <td>KNOCKDUFF DECLAN</td>\n",
       "      <td>ROMEO RECRUIT</td>\n",
       "      <td>WHITEYS JEWEL</td>\n",
       "      <td>16.07</td>\n",
       "      <td>16.07</td>\n",
       "    </tr>\n",
       "    <tr>\n",
       "      <td>6</td>\n",
       "      <td>CLONMEL</td>\n",
       "      <td>ROCKYS PRIDE</td>\n",
       "      <td>LAUGHIL BLAKE</td>\n",
       "      <td>BALLYROBIN SABLE</td>\n",
       "      <td>16.08</td>\n",
       "      <td>16.08</td>\n",
       "    </tr>\n",
       "    <tr>\n",
       "      <td>7</td>\n",
       "      <td>CLONMEL</td>\n",
       "      <td>BRYNOFFA SPY</td>\n",
       "      <td>HOLDEM SPY</td>\n",
       "      <td>EMMA HONEY</td>\n",
       "      <td>16.09</td>\n",
       "      <td>16.09</td>\n",
       "    </tr>\n",
       "    <tr>\n",
       "      <td>8</td>\n",
       "      <td>CLONMEL</td>\n",
       "      <td>TIVOLI ROSE</td>\n",
       "      <td>LAUGHIL BLAKE</td>\n",
       "      <td>TIVOLI MAEVE</td>\n",
       "      <td>16.09</td>\n",
       "      <td>16.09</td>\n",
       "    </tr>\n",
       "    <tr>\n",
       "      <td>9</td>\n",
       "      <td>CLONMEL</td>\n",
       "      <td>ART OF SPEED</td>\n",
       "      <td>TYRUR BIG MIKE</td>\n",
       "      <td>LAUGHIL LIZ</td>\n",
       "      <td>16.11</td>\n",
       "      <td>16.01</td>\n",
       "    </tr>\n",
       "  </tbody>\n",
       "</table>\n",
       "</div>"
      ],
      "text/plain": [
       "    County         Greyhound         Sire Name          Dam Name  Win Time  \\\n",
       "0    DERRY   RAG DOLLY MOLLY           GODSEND      TYRUR LATOYA     14.82   \n",
       "1  CLONMEL    GONE TO GROUND  SUPERIOR PRODUCT      LAUGHIL LUCY     15.95   \n",
       "2  CLONMEL    GONE TO GROUND  SUPERIOR PRODUCT      LAUGHIL LUCY     16.03   \n",
       "3  CLONMEL    BRYNOFFA CINDY      SHANEBOY LEE        EMMA HONEY     16.05   \n",
       "4  CLONMEL      PIEMANS DART  SCOLARI ME DADDY     CASTLE SPIRIT     16.05   \n",
       "5  CLONMEL  KNOCKDUFF DECLAN     ROMEO RECRUIT     WHITEYS JEWEL     16.07   \n",
       "6  CLONMEL      ROCKYS PRIDE     LAUGHIL BLAKE  BALLYROBIN SABLE     16.08   \n",
       "7  CLONMEL      BRYNOFFA SPY        HOLDEM SPY        EMMA HONEY     16.09   \n",
       "8  CLONMEL       TIVOLI ROSE     LAUGHIL BLAKE      TIVOLI MAEVE     16.09   \n",
       "9  CLONMEL      ART OF SPEED    TYRUR BIG MIKE       LAUGHIL LIZ     16.11   \n",
       "\n",
       "   EST Time  \n",
       "0     14.82  \n",
       "1     15.95  \n",
       "2     16.03  \n",
       "3     16.05  \n",
       "4     16.05  \n",
       "5     16.07  \n",
       "6     16.08  \n",
       "7     16.09  \n",
       "8     16.09  \n",
       "9     16.01  "
      ]
     },
     "execution_count": 355,
     "metadata": {},
     "output_type": "execute_result"
    }
   ],
   "source": [
    "#Fastest Greyhound Top 500\n",
    "fastest_greyhound_wins_5000=fastest_greyhound_wins[:5000]\n",
    "fastest_greyhound_wins.head(10)"
   ]
  },
  {
   "cell_type": "code",
   "execution_count": 354,
   "metadata": {},
   "outputs": [
    {
     "data": {
      "text/plain": [
       "Tralee             526\n",
       "DRUMBO PARK        517\n",
       "Dundalk            501\n",
       "LIFFORD            467\n",
       "GALWAY             462\n",
       "LONGFORD           455\n",
       "Curraheen Park     341\n",
       "Limerick           332\n",
       "DERRY              273\n",
       "Shelbourne Park    220\n",
       "CLONMEL            200\n",
       "NEWBRIDGE          196\n",
       "MULLINGAR          171\n",
       "YOUGHAL            110\n",
       "THURLES PARK        98\n",
       "ENNISCORTHY         71\n",
       "KILKENNY            32\n",
       "WATERFORD           28\n",
       "Name: County, dtype: int64"
      ]
     },
     "execution_count": 354,
     "metadata": {},
     "output_type": "execute_result"
    }
   ],
   "source": [
    "fastest_greyhound_wins_5000['County'].value_counts()"
   ]
  },
  {
   "cell_type": "code",
   "execution_count": 248,
   "metadata": {},
   "outputs": [
    {
     "data": {
      "text/plain": [
       "<matplotlib.axes._subplots.AxesSubplot at 0x26eb838ec08>"
      ]
     },
     "execution_count": 248,
     "metadata": {},
     "output_type": "execute_result"
    },
    {
     "data": {
      "image/png": "[encoded data removed]",
      "text/plain": [
       "<Figure size 1800x720 with 1 Axes>"
      ]
     },
     "metadata": {
      "needs_background": "light"
     },
     "output_type": "display_data"
    }
   ],
   "source": [
    "plt.figure(figsize=(25,10))\n",
    "sns.countplot(fastest_greyhound_wins_500['County'])"
   ]
  },
  {
   "cell_type": "code",
   "execution_count": 353,
   "metadata": {},
   "outputs": [
    {
     "data": {
      "text/plain": [
       "DRUMBO PARK        0.527013\n",
       "LIFFORD            0.501073\n",
       "DERRY              0.496364\n",
       "LONGFORD           0.423650\n",
       "Dundalk            0.329605\n",
       "GALWAY             0.300390\n",
       "NEWBRIDGE          0.221469\n",
       "CLONMEL            0.183150\n",
       "Curraheen Park     0.177051\n",
       "Tralee             0.174115\n",
       "Limerick           0.171665\n",
       "THURLES PARK       0.123737\n",
       "MULLINGAR          0.097882\n",
       "YOUGHAL            0.069095\n",
       "Shelbourne Park    0.063218\n",
       "ENNISCORTHY        0.058101\n",
       "KILKENNY           0.023970\n",
       "WATERFORD          0.018893\n",
       "Name: County, dtype: float64"
      ]
     },
     "execution_count": 353,
     "metadata": {},
     "output_type": "execute_result"
    }
   ],
   "source": [
    "#Number of Greyhound to fast greyhound ratio\n",
    "a=fastest_greyhound_wins_5000['County'].value_counts()\n",
    "b=df['County'].value_counts()\n",
    "c=(a/b).sort_values(ascending=False)\n",
    "c"
   ]
  },
  {
   "cell_type": "code",
   "execution_count": 261,
   "metadata": {},
   "outputs": [
    {
     "data": {
      "text/plain": [
       "County\n",
       "DERRY              22.936709\n",
       "DRUMBO PARK        23.495617\n",
       "LIFFORD            24.666791\n",
       "LONGFORD           25.093432\n",
       "Dundalk            25.878250\n",
       "GALWAY             26.552773\n",
       "CLONMEL            26.963771\n",
       "NEWBRIDGE          26.979120\n",
       "Tralee             27.376692\n",
       "Curraheen Park     27.397914\n",
       "Limerick           27.817803\n",
       "THURLES PARK       28.470059\n",
       "MULLINGAR          28.862806\n",
       "Shelbourne Park    28.910722\n",
       "YOUGHAL            28.951869\n",
       "WATERFORD          29.118526\n",
       "ENNISCORTHY        29.377437\n",
       "KILKENNY           29.859127\n",
       "Name: Win Time, dtype: float64"
      ]
     },
     "execution_count": 261,
     "metadata": {},
     "output_type": "execute_result"
    }
   ],
   "source": [
    "#County's Greyhound with best winning time\n",
    "best_winning_county_overall=df.groupby('County')['Win Time'].mean()\n",
    "best_winning_county_overall=best_winning_county.sort_values()\n",
    "best_winning_county"
   ]
  },
  {
   "cell_type": "code",
   "execution_count": 357,
   "metadata": {},
   "outputs": [
    {
     "data": {
      "text/plain": [
       "County\n",
       "Shelbourne Park    1189070.00\n",
       "Tralee              836852.50\n",
       "Curraheen Park      568315.00\n",
       "Limerick            561607.50\n",
       "YOUGHAL             472772.50\n",
       "MULLINGAR           466870.00\n",
       "WATERFORD           431536.00\n",
       "GALWAY              417317.50\n",
       "Dundalk             397973.50\n",
       "KILKENNY            368960.00\n",
       "ENNISCORTHY         351270.00\n",
       "CLONMEL             290995.00\n",
       "LONGFORD            256007.50\n",
       "LIFFORD             237933.33\n",
       "NEWBRIDGE           229127.50\n",
       "THURLES PARK        226015.00\n",
       "DERRY                   70.00\n",
       "DRUMBO PARK              0.00\n",
       "Name: Prize, dtype: float64"
      ]
     },
     "execution_count": 357,
     "metadata": {},
     "output_type": "execute_result"
    }
   ],
   "source": [
    "#County with highest prize money earning\n",
    "highest_earning_county=df.groupby('County')['Prize'].sum()\n",
    "highest_earning_county=highest_earning_county.sort_values(ascending=False)\n",
    "highest_earning_county"
   ]
  },
  {
   "cell_type": "code",
   "execution_count": 414,
   "metadata": {},
   "outputs": [
    {
     "data": {
      "text/plain": [
       "CLONMEL            266.478938\n",
       "Curraheen Park     295.075286\n",
       "DERRY                0.127273\n",
       "DRUMBO PARK          0.000000\n",
       "Dundalk            261.824671\n",
       "ENNISCORTHY        287.454992\n",
       "GALWAY             271.337776\n",
       "KILKENNY           276.374532\n",
       "LIFFORD            255.293273\n",
       "LONGFORD           238.368250\n",
       "Limerick           290.386505\n",
       "MULLINGAR          267.240985\n",
       "NEWBRIDGE          258.901130\n",
       "Shelbourne Park    341.686782\n",
       "THURLES PARK       285.372475\n",
       "Tralee             277.011751\n",
       "WATERFORD          291.184885\n",
       "YOUGHAL            296.967651\n",
       "dtype: float64"
      ]
     },
     "execution_count": 414,
     "metadata": {},
     "output_type": "execute_result"
    }
   ],
   "source": [
    "highest_earning_county/df['County'].value_counts()"
   ]
  },
  {
   "cell_type": "code",
   "execution_count": 362,
   "metadata": {},
   "outputs": [
    {
     "data": {
      "text/plain": [
       "Greyhound\n",
       "ART OF SPEED        16.110000\n",
       "ARCHGROVE JOSIE     16.285000\n",
       "ASTONS SUPREME      16.423333\n",
       "ASSARULA JACK       16.450000\n",
       "ASTONS BELLE        16.450000\n",
       "AN CHARRAIG ABU     16.540000\n",
       "ARCHGROVE RANGER    16.570000\n",
       "ARCHGROVE ROGER     16.590000\n",
       "ARCHGROVE RONNIE    16.626667\n",
       "ABBYLEA ROCKET      16.640000\n",
       "Name: Win Time, dtype: float64"
      ]
     },
     "execution_count": 362,
     "metadata": {},
     "output_type": "execute_result"
    }
   ],
   "source": [
    "#greyhound with best win time average-Top 500\n",
    "best_winning_greyhounds_500=df.groupby('Greyhound')['Win Time'].mean()[:500]\n",
    "best_winning_greyhounds_500=best_winning_greyhounds_500.sort_values()\n",
    "best_winning_greyhounds_500[:10]"
   ]
  },
  {
   "cell_type": "code",
   "execution_count": 364,
   "metadata": {},
   "outputs": [
    {
     "data": {
      "text/plain": [
       "County\n",
       "YOUGHAL            2.624698\n",
       "KILKENNY           2.448507\n",
       "Shelbourne Park    2.409314\n",
       "ENNISCORTHY        2.387740\n",
       "Limerick           2.382391\n",
       "LIFFORD            2.345956\n",
       "Tralee             2.335320\n",
       "Curraheen Park     2.309809\n",
       "MULLINGAR          2.296792\n",
       "WATERFORD          2.264420\n",
       "DRUMBO PARK        2.199988\n",
       "THURLES PARK       2.032361\n",
       "GALWAY             1.998282\n",
       "Dundalk            1.993272\n",
       "DERRY              1.960157\n",
       "LONGFORD           1.879380\n",
       "NEWBRIDGE          1.823020\n",
       "CLONMEL            1.415979\n",
       "Name: SP, dtype: float64"
      ]
     },
     "execution_count": 364,
     "metadata": {},
     "output_type": "execute_result"
    }
   ],
   "source": [
    "#County with best winning odds\n",
    "best_winning_odds_county=df.groupby('County')['SP'].mean()\n",
    "best_winning_odds.sort_values(ascending=False)"
   ]
  },
  {
   "cell_type": "code",
   "execution_count": 366,
   "metadata": {},
   "outputs": [
    {
     "data": {
      "text/plain": [
       "Greyhound\n",
       "ARDERA BONUS        8950.0\n",
       "ANASCAUL BLACKIE    6825.0\n",
       "ABBEYVILLE OSCAR    6825.0\n",
       "ABINGTON HERO       6350.0\n",
       "ANYTIME JOE         6300.0\n",
       "ANASCAUL JIMMY      5775.0\n",
       "ABBEYVILLE CIAN     5250.0\n",
       "ABBEYVILLE ISE      5250.0\n",
       "ADAMANT BROOKS      5250.0\n",
       "AIRFIELD HARRY      5250.0\n",
       "ARDRATH ALFRED      5250.0\n",
       "Name: Distance, dtype: float64"
      ]
     },
     "execution_count": 366,
     "metadata": {},
     "output_type": "execute_result"
    }
   ],
   "source": [
    "#Greyhounds with most distance covered\n",
    "max_distance_greyhounds_500=df.groupby('Greyhound')['Distance'].sum()[:500]\n",
    "max_distance_greyhounds_500=max_distance_greyhounds_500.sort_values()\n",
    "max_distance_greyhounds_500[max_distance_greyhounds_500>5000].sort_values(ascending=False)"
   ]
  },
  {
   "cell_type": "code",
   "execution_count": 411,
   "metadata": {},
   "outputs": [
    {
     "data": {
      "text/plain": [
       "SLANEYSIDE KEYES    20\n",
       "SLIPPY CIAN         18\n",
       "ARDERA BONUS        17\n",
       "TOKENFIRE ABBIE     17\n",
       "SMURFING SEASON     17\n",
       "                    ..\n",
       "TRUMERA QUARRY      10\n",
       "SUNNY SIMONE        10\n",
       "OUR JIM             10\n",
       "ADAMANT BROOKS      10\n",
       "DOWDINGSTOWN BOY    10\n",
       "Name: Greyhound, Length: 200, dtype: int64"
      ]
     },
     "execution_count": 411,
     "metadata": {},
     "output_type": "execute_result"
    }
   ],
   "source": [
    "#Greyhounds with most appearance\n",
    "max_race_greyhounds_500=df['Greyhound'].value_counts()\n",
    "a=max_race_greyhounds_500[:200]\n",
    "a"
   ]
  },
  {
   "cell_type": "code",
   "execution_count": 412,
   "metadata": {},
   "outputs": [
    {
     "data": {
      "text/plain": [
       "Greyhound\n",
       "KNOCKALTON GUY      17.836000\n",
       "SLANEYSIDE KEYES    17.949500\n",
       "SNIPERSBLACKLIST    18.260667\n",
       "BUTTERBRIDGE BEX    18.375455\n",
       "MONPARK JACK        18.844000\n",
       "                      ...    \n",
       "CUSHIE JET          31.770714\n",
       "SMURFING SEASON     32.091176\n",
       "WANGANUI            32.253000\n",
       "BE SLOW DJANGO      32.468000\n",
       "SKYWALKER LOGAN     32.887692\n",
       "Name: Win Time, Length: 200, dtype: float64"
      ]
     },
     "execution_count": 412,
     "metadata": {},
     "output_type": "execute_result"
    }
   ],
   "source": [
    "a=a.index.values\n",
    "a=list(a)\n",
    "df3=df[df[\"Greyhound\"].isin(a)]\n",
    "ad=df3.groupby('Greyhound')['Win Time'].mean()\n",
    "ad=ad.sort_values()\n",
    "ad"
   ]
  },
  {
   "cell_type": "markdown",
   "metadata": {},
   "source": [
    "# Data Preparation for ANN"
   ]
  },
  {
   "cell_type": "code",
   "execution_count": 11,
   "metadata": {},
   "outputs": [],
   "source": [
    "col=['County','Distance','Prize','WT.','Win Time','EST Time','SP','Grade']\n",
    "df2=df[col]"
   ]
  },
  {
   "cell_type": "code",
   "execution_count": 12,
   "metadata": {},
   "outputs": [
    {
     "data": {
      "text/html": [
       "<div>\n",
       "<style scoped>\n",
       "    .dataframe tbody tr th:only-of-type {\n",
       "        vertical-align: middle;\n",
       "    }\n",
       "\n",
       "    .dataframe tbody tr th {\n",
       "        vertical-align: top;\n",
       "    }\n",
       "\n",
       "    .dataframe thead th {\n",
       "        text-align: right;\n",
       "    }\n",
       "</style>\n",
       "<table border=\"1\" class=\"dataframe\">\n",
       "  <thead>\n",
       "    <tr style=\"text-align: right;\">\n",
       "      <th></th>\n",
       "      <th>County</th>\n",
       "      <th>Distance</th>\n",
       "      <th>Prize</th>\n",
       "      <th>WT.</th>\n",
       "      <th>Win Time</th>\n",
       "      <th>EST Time</th>\n",
       "      <th>SP</th>\n",
       "      <th>Grade</th>\n",
       "    </tr>\n",
       "  </thead>\n",
       "  <tbody>\n",
       "    <tr>\n",
       "      <td>0</td>\n",
       "      <td>CLONMEL</td>\n",
       "      <td>525</td>\n",
       "      <td>310.00</td>\n",
       "      <td>59</td>\n",
       "      <td>29.34</td>\n",
       "      <td>29.14</td>\n",
       "      <td>1.5</td>\n",
       "      <td>A3</td>\n",
       "    </tr>\n",
       "    <tr>\n",
       "      <td>1</td>\n",
       "      <td>CLONMEL</td>\n",
       "      <td>525</td>\n",
       "      <td>310.00</td>\n",
       "      <td>65</td>\n",
       "      <td>29.35</td>\n",
       "      <td>29.15</td>\n",
       "      <td>1.5</td>\n",
       "      <td>A3</td>\n",
       "    </tr>\n",
       "    <tr>\n",
       "      <td>2</td>\n",
       "      <td>CLONMEL</td>\n",
       "      <td>300</td>\n",
       "      <td>210.00</td>\n",
       "      <td>68</td>\n",
       "      <td>16.59</td>\n",
       "      <td>16.59</td>\n",
       "      <td>1.5</td>\n",
       "      <td>S3</td>\n",
       "    </tr>\n",
       "    <tr>\n",
       "      <td>3</td>\n",
       "      <td>CLONMEL</td>\n",
       "      <td>525</td>\n",
       "      <td>325.00</td>\n",
       "      <td>74</td>\n",
       "      <td>29.09</td>\n",
       "      <td>28.89</td>\n",
       "      <td>1.75</td>\n",
       "      <td>A1</td>\n",
       "    </tr>\n",
       "    <tr>\n",
       "      <td>4</td>\n",
       "      <td>CLONMEL</td>\n",
       "      <td>525</td>\n",
       "      <td>325.00</td>\n",
       "      <td>66</td>\n",
       "      <td>29.00</td>\n",
       "      <td>28.80</td>\n",
       "      <td>2.5</td>\n",
       "      <td>A1</td>\n",
       "    </tr>\n",
       "  </tbody>\n",
       "</table>\n",
       "</div>"
      ],
      "text/plain": [
       "    County Distance   Prize WT. Win Time EST Time    SP Grade\n",
       "0  CLONMEL      525  310.00  59    29.34    29.14   1.5    A3\n",
       "1  CLONMEL      525  310.00  65    29.35    29.15   1.5    A3\n",
       "2  CLONMEL      300  210.00  68    16.59    16.59   1.5    S3\n",
       "3  CLONMEL      525  325.00  74    29.09    28.89  1.75    A1\n",
       "4  CLONMEL      525  325.00  66    29.00    28.80   2.5    A1"
      ]
     },
     "execution_count": 12,
     "metadata": {},
     "output_type": "execute_result"
    }
   ],
   "source": [
    "df2.head()"
   ]
  },
  {
   "cell_type": "code",
   "execution_count": 13,
   "metadata": {},
   "outputs": [
    {
     "name": "stdout",
     "output_type": "stream",
     "text": [
      "<class 'pandas.core.frame.DataFrame'>\n",
      "RangeIndex: 28783 entries, 0 to 28782\n",
      "Data columns (total 8 columns):\n",
      "County      28783 non-null object\n",
      "Distance    28783 non-null object\n",
      "Prize       28783 non-null object\n",
      "WT.         28783 non-null object\n",
      "Win Time    28783 non-null object\n",
      "EST Time    28783 non-null object\n",
      "SP          28783 non-null object\n",
      "Grade       28783 non-null object\n",
      "dtypes: object(8)\n",
      "memory usage: 1.8+ MB\n"
     ]
    }
   ],
   "source": [
    "df2.info()"
   ]
  },
  {
   "cell_type": "code",
   "execution_count": 14,
   "metadata": {},
   "outputs": [
    {
     "name": "stderr",
     "output_type": "stream",
     "text": [
      "C:\\Users\\asus\\Anaconda3\\lib\\site-packages\\IPython\\core\\interactiveshell.py:3326: SettingWithCopyWarning: \n",
      "A value is trying to be set on a copy of a slice from a DataFrame\n",
      "\n",
      "See the caveats in the documentation: http://pandas.pydata.org/pandas-docs/stable/user_guide/indexing.html#returning-a-view-versus-a-copy\n",
      "  exec(code_obj, self.user_global_ns, self.user_ns)\n"
     ]
    }
   ],
   "source": [
    "df2['EST Time'][22262]=0"
   ]
  },
  {
   "cell_type": "code",
   "execution_count": 15,
   "metadata": {},
   "outputs": [
    {
     "name": "stderr",
     "output_type": "stream",
     "text": [
      "C:\\Users\\asus\\Anaconda3\\lib\\site-packages\\ipykernel_launcher.py:1: SettingWithCopyWarning: \n",
      "A value is trying to be set on a copy of a slice from a DataFrame.\n",
      "Try using .loc[row_indexer,col_indexer] = value instead\n",
      "\n",
      "See the caveats in the documentation: http://pandas.pydata.org/pandas-docs/stable/user_guide/indexing.html#returning-a-view-versus-a-copy\n",
      "  \"\"\"Entry point for launching an IPython kernel.\n",
      "C:\\Users\\asus\\Anaconda3\\lib\\site-packages\\ipykernel_launcher.py:2: SettingWithCopyWarning: \n",
      "A value is trying to be set on a copy of a slice from a DataFrame.\n",
      "Try using .loc[row_indexer,col_indexer] = value instead\n",
      "\n",
      "See the caveats in the documentation: http://pandas.pydata.org/pandas-docs/stable/user_guide/indexing.html#returning-a-view-versus-a-copy\n",
      "  \n",
      "C:\\Users\\asus\\Anaconda3\\lib\\site-packages\\ipykernel_launcher.py:3: SettingWithCopyWarning: \n",
      "A value is trying to be set on a copy of a slice from a DataFrame.\n",
      "Try using .loc[row_indexer,col_indexer] = value instead\n",
      "\n",
      "See the caveats in the documentation: http://pandas.pydata.org/pandas-docs/stable/user_guide/indexing.html#returning-a-view-versus-a-copy\n",
      "  This is separate from the ipykernel package so we can avoid doing imports until\n",
      "C:\\Users\\asus\\Anaconda3\\lib\\site-packages\\ipykernel_launcher.py:4: SettingWithCopyWarning: \n",
      "A value is trying to be set on a copy of a slice from a DataFrame.\n",
      "Try using .loc[row_indexer,col_indexer] = value instead\n",
      "\n",
      "See the caveats in the documentation: http://pandas.pydata.org/pandas-docs/stable/user_guide/indexing.html#returning-a-view-versus-a-copy\n",
      "  after removing the cwd from sys.path.\n",
      "C:\\Users\\asus\\Anaconda3\\lib\\site-packages\\ipykernel_launcher.py:5: SettingWithCopyWarning: \n",
      "A value is trying to be set on a copy of a slice from a DataFrame.\n",
      "Try using .loc[row_indexer,col_indexer] = value instead\n",
      "\n",
      "See the caveats in the documentation: http://pandas.pydata.org/pandas-docs/stable/user_guide/indexing.html#returning-a-view-versus-a-copy\n",
      "  \"\"\"\n",
      "C:\\Users\\asus\\Anaconda3\\lib\\site-packages\\ipykernel_launcher.py:6: SettingWithCopyWarning: \n",
      "A value is trying to be set on a copy of a slice from a DataFrame.\n",
      "Try using .loc[row_indexer,col_indexer] = value instead\n",
      "\n",
      "See the caveats in the documentation: http://pandas.pydata.org/pandas-docs/stable/user_guide/indexing.html#returning-a-view-versus-a-copy\n",
      "  \n"
     ]
    }
   ],
   "source": [
    "df2['Distance']=df2['Distance'].astype(float)\n",
    "df2['Prize']=df2['Prize'].astype(float)\n",
    "df2['WT.']=df2['WT.'].astype(float)\n",
    "df2['Win Time']=df2['Win Time'].astype(float)\n",
    "df2['EST Time']=df2['EST Time'].astype(float)\n",
    "df2['SP']=df2['SP'].astype(float)"
   ]
  },
  {
   "cell_type": "code",
   "execution_count": 16,
   "metadata": {},
   "outputs": [
    {
     "name": "stderr",
     "output_type": "stream",
     "text": [
      "C:\\Users\\asus\\Anaconda3\\lib\\site-packages\\ipykernel_launcher.py:3: SettingWithCopyWarning: \n",
      "A value is trying to be set on a copy of a slice from a DataFrame.\n",
      "Try using .loc[row_indexer,col_indexer] = value instead\n",
      "\n",
      "See the caveats in the documentation: http://pandas.pydata.org/pandas-docs/stable/user_guide/indexing.html#returning-a-view-versus-a-copy\n",
      "  This is separate from the ipykernel package so we can avoid doing imports until\n",
      "C:\\Users\\asus\\Anaconda3\\lib\\site-packages\\ipykernel_launcher.py:4: SettingWithCopyWarning: \n",
      "A value is trying to be set on a copy of a slice from a DataFrame.\n",
      "Try using .loc[row_indexer,col_indexer] = value instead\n",
      "\n",
      "See the caveats in the documentation: http://pandas.pydata.org/pandas-docs/stable/user_guide/indexing.html#returning-a-view-versus-a-copy\n",
      "  after removing the cwd from sys.path.\n"
     ]
    }
   ],
   "source": [
    "from sklearn.preprocessing import LabelEncoder\n",
    "le = LabelEncoder()\n",
    "df2['County'] = le.fit_transform(df2['County'])\n",
    "df2['Grade'] = le.fit_transform(df2['Grade'])"
   ]
  },
  {
   "cell_type": "code",
   "execution_count": 17,
   "metadata": {},
   "outputs": [
    {
     "data": {
      "text/html": [
       "<div>\n",
       "<style scoped>\n",
       "    .dataframe tbody tr th:only-of-type {\n",
       "        vertical-align: middle;\n",
       "    }\n",
       "\n",
       "    .dataframe tbody tr th {\n",
       "        vertical-align: top;\n",
       "    }\n",
       "\n",
       "    .dataframe thead th {\n",
       "        text-align: right;\n",
       "    }\n",
       "</style>\n",
       "<table border=\"1\" class=\"dataframe\">\n",
       "  <thead>\n",
       "    <tr style=\"text-align: right;\">\n",
       "      <th></th>\n",
       "      <th>County</th>\n",
       "      <th>Distance</th>\n",
       "      <th>Prize</th>\n",
       "      <th>WT.</th>\n",
       "      <th>Win Time</th>\n",
       "      <th>EST Time</th>\n",
       "      <th>SP</th>\n",
       "      <th>Grade</th>\n",
       "    </tr>\n",
       "  </thead>\n",
       "  <tbody>\n",
       "    <tr>\n",
       "      <td>0</td>\n",
       "      <td>0</td>\n",
       "      <td>525.0</td>\n",
       "      <td>310.0</td>\n",
       "      <td>59.0</td>\n",
       "      <td>29.34</td>\n",
       "      <td>29.14</td>\n",
       "      <td>1.50</td>\n",
       "      <td>5</td>\n",
       "    </tr>\n",
       "    <tr>\n",
       "      <td>1</td>\n",
       "      <td>0</td>\n",
       "      <td>525.0</td>\n",
       "      <td>310.0</td>\n",
       "      <td>65.0</td>\n",
       "      <td>29.35</td>\n",
       "      <td>29.15</td>\n",
       "      <td>1.50</td>\n",
       "      <td>5</td>\n",
       "    </tr>\n",
       "    <tr>\n",
       "      <td>2</td>\n",
       "      <td>0</td>\n",
       "      <td>300.0</td>\n",
       "      <td>210.0</td>\n",
       "      <td>68.0</td>\n",
       "      <td>16.59</td>\n",
       "      <td>16.59</td>\n",
       "      <td>1.50</td>\n",
       "      <td>27</td>\n",
       "    </tr>\n",
       "    <tr>\n",
       "      <td>3</td>\n",
       "      <td>0</td>\n",
       "      <td>525.0</td>\n",
       "      <td>325.0</td>\n",
       "      <td>74.0</td>\n",
       "      <td>29.09</td>\n",
       "      <td>28.89</td>\n",
       "      <td>1.75</td>\n",
       "      <td>2</td>\n",
       "    </tr>\n",
       "    <tr>\n",
       "      <td>4</td>\n",
       "      <td>0</td>\n",
       "      <td>525.0</td>\n",
       "      <td>325.0</td>\n",
       "      <td>66.0</td>\n",
       "      <td>29.00</td>\n",
       "      <td>28.80</td>\n",
       "      <td>2.50</td>\n",
       "      <td>2</td>\n",
       "    </tr>\n",
       "  </tbody>\n",
       "</table>\n",
       "</div>"
      ],
      "text/plain": [
       "   County  Distance  Prize   WT.  Win Time  EST Time    SP  Grade\n",
       "0       0     525.0  310.0  59.0     29.34     29.14  1.50      5\n",
       "1       0     525.0  310.0  65.0     29.35     29.15  1.50      5\n",
       "2       0     300.0  210.0  68.0     16.59     16.59  1.50     27\n",
       "3       0     525.0  325.0  74.0     29.09     28.89  1.75      2\n",
       "4       0     525.0  325.0  66.0     29.00     28.80  2.50      2"
      ]
     },
     "execution_count": 17,
     "metadata": {},
     "output_type": "execute_result"
    }
   ],
   "source": [
    "df2.head()"
   ]
  },
  {
   "cell_type": "code",
   "execution_count": 18,
   "metadata": {},
   "outputs": [
    {
     "name": "stdout",
     "output_type": "stream",
     "text": [
      "<class 'pandas.core.frame.DataFrame'>\n",
      "RangeIndex: 28783 entries, 0 to 28782\n",
      "Data columns (total 8 columns):\n",
      "County      28783 non-null int32\n",
      "Distance    28783 non-null float64\n",
      "Prize       28783 non-null float64\n",
      "WT.         28783 non-null float64\n",
      "Win Time    28783 non-null float64\n",
      "EST Time    28783 non-null float64\n",
      "SP          28783 non-null float64\n",
      "Grade       28783 non-null int32\n",
      "dtypes: float64(6), int32(2)\n",
      "memory usage: 1.5 MB\n"
     ]
    }
   ],
   "source": [
    "df2.info()"
   ]
  },
  {
   "cell_type": "code",
   "execution_count": 19,
   "metadata": {},
   "outputs": [
    {
     "data": {
      "text/html": [
       "<div>\n",
       "<style scoped>\n",
       "    .dataframe tbody tr th:only-of-type {\n",
       "        vertical-align: middle;\n",
       "    }\n",
       "\n",
       "    .dataframe tbody tr th {\n",
       "        vertical-align: top;\n",
       "    }\n",
       "\n",
       "    .dataframe thead th {\n",
       "        text-align: right;\n",
       "    }\n",
       "</style>\n",
       "<table border=\"1\" class=\"dataframe\">\n",
       "  <thead>\n",
       "    <tr style=\"text-align: right;\">\n",
       "      <th></th>\n",
       "      <th>County</th>\n",
       "      <th>Distance</th>\n",
       "      <th>Prize</th>\n",
       "      <th>WT.</th>\n",
       "      <th>Win Time</th>\n",
       "      <th>EST Time</th>\n",
       "      <th>SP</th>\n",
       "      <th>Grade</th>\n",
       "    </tr>\n",
       "  </thead>\n",
       "  <tbody>\n",
       "    <tr>\n",
       "      <td>County</td>\n",
       "      <td>1.000000</td>\n",
       "      <td>0.166492</td>\n",
       "      <td>0.028178</td>\n",
       "      <td>-0.010562</td>\n",
       "      <td>0.170618</td>\n",
       "      <td>0.165154</td>\n",
       "      <td>0.108953</td>\n",
       "      <td>-0.176974</td>\n",
       "    </tr>\n",
       "    <tr>\n",
       "      <td>Distance</td>\n",
       "      <td>0.166492</td>\n",
       "      <td>1.000000</td>\n",
       "      <td>0.053232</td>\n",
       "      <td>-0.035936</td>\n",
       "      <td>0.969001</td>\n",
       "      <td>0.975665</td>\n",
       "      <td>0.084932</td>\n",
       "      <td>-0.861301</td>\n",
       "    </tr>\n",
       "    <tr>\n",
       "      <td>Prize</td>\n",
       "      <td>0.028178</td>\n",
       "      <td>0.053232</td>\n",
       "      <td>1.000000</td>\n",
       "      <td>0.021456</td>\n",
       "      <td>0.044764</td>\n",
       "      <td>0.045890</td>\n",
       "      <td>0.017024</td>\n",
       "      <td>-0.028479</td>\n",
       "    </tr>\n",
       "    <tr>\n",
       "      <td>WT.</td>\n",
       "      <td>-0.010562</td>\n",
       "      <td>-0.035936</td>\n",
       "      <td>0.021456</td>\n",
       "      <td>1.000000</td>\n",
       "      <td>-0.062434</td>\n",
       "      <td>-0.057849</td>\n",
       "      <td>-0.058432</td>\n",
       "      <td>0.025681</td>\n",
       "    </tr>\n",
       "    <tr>\n",
       "      <td>Win Time</td>\n",
       "      <td>0.170618</td>\n",
       "      <td>0.969001</td>\n",
       "      <td>0.044764</td>\n",
       "      <td>-0.062434</td>\n",
       "      <td>1.000000</td>\n",
       "      <td>0.990569</td>\n",
       "      <td>0.087000</td>\n",
       "      <td>-0.841571</td>\n",
       "    </tr>\n",
       "    <tr>\n",
       "      <td>EST Time</td>\n",
       "      <td>0.165154</td>\n",
       "      <td>0.975665</td>\n",
       "      <td>0.045890</td>\n",
       "      <td>-0.057849</td>\n",
       "      <td>0.990569</td>\n",
       "      <td>1.000000</td>\n",
       "      <td>0.087824</td>\n",
       "      <td>-0.846300</td>\n",
       "    </tr>\n",
       "    <tr>\n",
       "      <td>SP</td>\n",
       "      <td>0.108953</td>\n",
       "      <td>0.084932</td>\n",
       "      <td>0.017024</td>\n",
       "      <td>-0.058432</td>\n",
       "      <td>0.087000</td>\n",
       "      <td>0.087824</td>\n",
       "      <td>1.000000</td>\n",
       "      <td>-0.085394</td>\n",
       "    </tr>\n",
       "    <tr>\n",
       "      <td>Grade</td>\n",
       "      <td>-0.176974</td>\n",
       "      <td>-0.861301</td>\n",
       "      <td>-0.028479</td>\n",
       "      <td>0.025681</td>\n",
       "      <td>-0.841571</td>\n",
       "      <td>-0.846300</td>\n",
       "      <td>-0.085394</td>\n",
       "      <td>1.000000</td>\n",
       "    </tr>\n",
       "  </tbody>\n",
       "</table>\n",
       "</div>"
      ],
      "text/plain": [
       "            County  Distance     Prize       WT.  Win Time  EST Time  \\\n",
       "County    1.000000  0.166492  0.028178 -0.010562  0.170618  0.165154   \n",
       "Distance  0.166492  1.000000  0.053232 -0.035936  0.969001  0.975665   \n",
       "Prize     0.028178  0.053232  1.000000  0.021456  0.044764  0.045890   \n",
       "WT.      -0.010562 -0.035936  0.021456  1.000000 -0.062434 -0.057849   \n",
       "Win Time  0.170618  0.969001  0.044764 -0.062434  1.000000  0.990569   \n",
       "EST Time  0.165154  0.975665  0.045890 -0.057849  0.990569  1.000000   \n",
       "SP        0.108953  0.084932  0.017024 -0.058432  0.087000  0.087824   \n",
       "Grade    -0.176974 -0.861301 -0.028479  0.025681 -0.841571 -0.846300   \n",
       "\n",
       "                SP     Grade  \n",
       "County    0.108953 -0.176974  \n",
       "Distance  0.084932 -0.861301  \n",
       "Prize     0.017024 -0.028479  \n",
       "WT.      -0.058432  0.025681  \n",
       "Win Time  0.087000 -0.841571  \n",
       "EST Time  0.087824 -0.846300  \n",
       "SP        1.000000 -0.085394  \n",
       "Grade    -0.085394  1.000000  "
      ]
     },
     "execution_count": 19,
     "metadata": {},
     "output_type": "execute_result"
    }
   ],
   "source": [
    "df2.corr()"
   ]
  },
  {
   "cell_type": "code",
   "execution_count": 20,
   "metadata": {},
   "outputs": [],
   "source": [
    "train=df2.drop('EST Time',axis=1)\n",
    "test=df2['EST Time']"
   ]
  },
  {
   "cell_type": "code",
   "execution_count": 21,
   "metadata": {},
   "outputs": [
    {
     "data": {
      "text/plain": [
       "<matplotlib.axes._subplots.AxesSubplot at 0x26e9ca252c8>"
      ]
     },
     "execution_count": 21,
     "metadata": {},
     "output_type": "execute_result"
    },
    {
     "data": {
      "image/png": "[encoded data removed]",
      "text/plain": [
       "<Figure size 1440x720 with 1 Axes>"
      ]
     },
     "metadata": {
      "needs_background": "light"
     },
     "output_type": "display_data"
    }
   ],
   "source": [
    "train.corrwith(test).plot.bar(figsize=(20,10),\n",
    "                                           title=\"Correalation with response variable\",\n",
    "                                           fontsize=15,rot=45,grid=True)"
   ]
  },
  {
   "cell_type": "code",
   "execution_count": 22,
   "metadata": {},
   "outputs": [],
   "source": [
    "from sklearn.preprocessing import StandardScaler\n",
    "train_norm=StandardScaler().fit_transform(train)"
   ]
  },
  {
   "cell_type": "code",
   "execution_count": 23,
   "metadata": {},
   "outputs": [],
   "source": [
    "from sklearn.model_selection import train_test_split\n",
    "x_train,x_test,y_train,y_test=train_test_split(train_norm,test,test_size=0.3,random_state=0)"
   ]
  },
  {
   "cell_type": "code",
   "execution_count": 24,
   "metadata": {},
   "outputs": [
    {
     "data": {
      "text/plain": [
       "((20148, 7), (20148,), (8635, 7), (8635,))"
      ]
     },
     "execution_count": 24,
     "metadata": {},
     "output_type": "execute_result"
    }
   ],
   "source": [
    "x_train.shape,y_train.shape,x_test.shape,y_test.shape"
   ]
  },
  {
   "cell_type": "code",
   "execution_count": 25,
   "metadata": {},
   "outputs": [],
   "source": [
    "x_train=np.array(x_train)\n",
    "x_test=np.array(x_test)\n",
    "y_train=np.array(y_train)\n",
    "y_test=np.array(y_test)"
   ]
  },
  {
   "cell_type": "markdown",
   "metadata": {},
   "source": [
    "# ANN Implementation"
   ]
  },
  {
   "cell_type": "code",
   "execution_count": 26,
   "metadata": {},
   "outputs": [
    {
     "name": "stderr",
     "output_type": "stream",
     "text": [
      "Using TensorFlow backend.\n"
     ]
    }
   ],
   "source": [
    "import keras\n",
    "from keras.models import Sequential\n",
    "from keras.layers import Dense\n",
    "from keras.layers import Dropout"
   ]
  },
  {
   "cell_type": "code",
   "execution_count": 27,
   "metadata": {},
   "outputs": [],
   "source": [
    "model=Sequential([\n",
    "    Dense(units=16,input_dim=7,activation='relu'),\n",
    "    Dense(units=24,activation='relu'),\n",
    "    Dense(units=1,activation='linear')\n",
    "])"
   ]
  },
  {
   "cell_type": "code",
   "execution_count": 28,
   "metadata": {},
   "outputs": [
    {
     "name": "stdout",
     "output_type": "stream",
     "text": [
      "Model: \"sequential_1\"\n",
      "_________________________________________________________________\n",
      "Layer (type)                 Output Shape              Param #   \n",
      "=================================================================\n",
      "dense_1 (Dense)              (None, 16)                128       \n",
      "_________________________________________________________________\n",
      "dense_2 (Dense)              (None, 24)                408       \n",
      "_________________________________________________________________\n",
      "dense_3 (Dense)              (None, 1)                 25        \n",
      "=================================================================\n",
      "Total params: 561\n",
      "Trainable params: 561\n",
      "Non-trainable params: 0\n",
      "_________________________________________________________________\n"
     ]
    }
   ],
   "source": [
    "model.summary()"
   ]
  },
  {
   "cell_type": "code",
   "execution_count": 29,
   "metadata": {},
   "outputs": [
    {
     "name": "stdout",
     "output_type": "stream",
     "text": [
      "Train on 14103 samples, validate on 6045 samples\n",
      "Epoch 1/20\n",
      "14103/14103 [==============================] - 3s 202us/step - loss: 6.9504 - mean_absolute_error: 6.9504 - val_loss: 1.3114 - val_mean_absolute_error: 1.3114\n",
      "Epoch 2/20\n",
      "14103/14103 [==============================] - 4s 261us/step - loss: 0.7092 - mean_absolute_error: 0.7092 - val_loss: 0.3718 - val_mean_absolute_error: 0.3718\n",
      "Epoch 3/20\n",
      "14103/14103 [==============================] - 4s 295us/step - loss: 0.2792 - mean_absolute_error: 0.2792 - val_loss: 0.2290 - val_mean_absolute_error: 0.2290\n",
      "Epoch 4/20\n",
      "14103/14103 [==============================] - 4s 294us/step - loss: 0.2013 - mean_absolute_error: 0.2013 - val_loss: 0.1750 - val_mean_absolute_error: 0.1750\n",
      "Epoch 5/20\n",
      "14103/14103 [==============================] - 4s 293us/step - loss: 0.1736 - mean_absolute_error: 0.1736 - val_loss: 0.1719 - val_mean_absolute_error: 0.1719\n",
      "Epoch 6/20\n",
      "14103/14103 [==============================] - 4s 295us/step - loss: 0.1621 - mean_absolute_error: 0.1621 - val_loss: 0.1499 - val_mean_absolute_error: 0.1499\n",
      "Epoch 7/20\n",
      "14103/14103 [==============================] - 4s 296us/step - loss: 0.1514 - mean_absolute_error: 0.1514 - val_loss: 0.1438 - val_mean_absolute_error: 0.1438\n",
      "Epoch 8/20\n",
      "14103/14103 [==============================] - 4s 299us/step - loss: 0.1454 - mean_absolute_error: 0.1454 - val_loss: 0.1343 - val_mean_absolute_error: 0.1343\n",
      "Epoch 9/20\n",
      "14103/14103 [==============================] - 4s 296us/step - loss: 0.1404 - mean_absolute_error: 0.1404 - val_loss: 0.1731 - val_mean_absolute_error: 0.1731\n",
      "Epoch 10/20\n",
      "14103/14103 [==============================] - 4s 295us/step - loss: 0.1328 - mean_absolute_error: 0.1328 - val_loss: 0.1325 - val_mean_absolute_error: 0.1325\n",
      "Epoch 11/20\n",
      "14103/14103 [==============================] - 4s 300us/step - loss: 0.1321 - mean_absolute_error: 0.1321 - val_loss: 0.1641 - val_mean_absolute_error: 0.1641\n",
      "Epoch 12/20\n",
      "14103/14103 [==============================] - 5s 335us/step - loss: 0.1251 - mean_absolute_error: 0.1251 - val_loss: 0.1174 - val_mean_absolute_error: 0.1174\n",
      "Epoch 13/20\n",
      "14103/14103 [==============================] - 4s 298us/step - loss: 0.1255 - mean_absolute_error: 0.1255 - val_loss: 0.1114 - val_mean_absolute_error: 0.1114\n",
      "Epoch 14/20\n",
      "14103/14103 [==============================] - 5s 338us/step - loss: 0.1229 - mean_absolute_error: 0.1229 - val_loss: 0.1152 - val_mean_absolute_error: 0.1152\n",
      "Epoch 15/20\n",
      "14103/14103 [==============================] - 5s 341us/step - loss: 0.1176 - mean_absolute_error: 0.1176 - val_loss: 0.1214 - val_mean_absolute_error: 0.1214\n",
      "Epoch 16/20\n",
      "14103/14103 [==============================] - 5s 340us/step - loss: 0.1148 - mean_absolute_error: 0.1148 - val_loss: 0.1416 - val_mean_absolute_error: 0.1416\n",
      "Epoch 17/20\n",
      "14103/14103 [==============================] - 5s 339us/step - loss: 0.1072 - mean_absolute_error: 0.1072 - val_loss: 0.1015 - val_mean_absolute_error: 0.1015\n",
      "Epoch 18/20\n",
      "14103/14103 [==============================] - 4s 308us/step - loss: 0.1012 - mean_absolute_error: 0.1012 - val_loss: 0.1044 - val_mean_absolute_error: 0.1044\n",
      "Epoch 19/20\n",
      "14103/14103 [==============================] - 5s 340us/step - loss: 0.1012 - mean_absolute_error: 0.1012 - val_loss: 0.0850 - val_mean_absolute_error: 0.0850\n",
      "Epoch 20/20\n",
      "14103/14103 [==============================] - 4s 300us/step - loss: 0.0931 - mean_absolute_error: 0.0931 - val_loss: 0.1041 - val_mean_absolute_error: 0.1041\n"
     ]
    }
   ],
   "source": [
    "model.compile(optimizer='adam',loss='mean_absolute_error',metrics=[\"mean_absolute_error\"])\n",
    "history=model.fit(x_train,y_train,batch_size=15,epochs=20,validation_split=0.3)"
   ]
  },
  {
   "cell_type": "code",
   "execution_count": 30,
   "metadata": {},
   "outputs": [
    {
     "name": "stdout",
     "output_type": "stream",
     "text": [
      "dict_keys(['val_loss', 'val_mean_absolute_error', 'loss', 'mean_absolute_error'])\n"
     ]
    },
    {
     "data": {
      "image/png": "[encoded data removed]",
      "text/plain": [
       "<Figure size 432x288 with 1 Axes>"
      ]
     },
     "metadata": {
      "needs_background": "light"
     },
     "output_type": "display_data"
    },
    {
     "data": {
      "image/png": "[encoded data removed]",
      "text/plain": [
       "<Figure size 432x288 with 1 Axes>"
      ]
     },
     "metadata": {
      "needs_background": "light"
     },
     "output_type": "display_data"
    }
   ],
   "source": [
    "# list all data in history\n",
    "print(history.history.keys())\n",
    "# summarize history for accuracy\n",
    "plt.plot(history.history['mean_absolute_error'])\n",
    "plt.plot(history.history['val_mean_absolute_error'])\n",
    "plt.title('model error')\n",
    "plt.ylabel('mean_absolute_error')\n",
    "plt.xlabel('epoch')\n",
    "plt.legend(['train', 'test'], loc='upper left')\n",
    "plt.show()\n",
    "# summarize history for loss\n",
    "plt.plot(history.history['loss'])\n",
    "plt.plot(history.history['val_loss'])\n",
    "plt.title('model loss')\n",
    "plt.ylabel('loss')\n",
    "plt.xlabel('epoch')\n",
    "plt.legend(['train', 'test'], loc='upper left')\n",
    "plt.show()"
   ]
  },
  {
   "cell_type": "code",
   "execution_count": 31,
   "metadata": {},
   "outputs": [],
   "source": [
    "y_pred=model.predict(x_test)"
   ]
  },
  {
   "cell_type": "code",
   "execution_count": 32,
   "metadata": {},
   "outputs": [
    {
     "data": {
      "text/plain": [
       "array([29.17461], dtype=float32)"
      ]
     },
     "execution_count": 32,
     "metadata": {},
     "output_type": "execute_result"
    }
   ],
   "source": [
    "y_pred[1]"
   ]
  },
  {
   "cell_type": "code",
   "execution_count": 33,
   "metadata": {},
   "outputs": [
    {
     "data": {
      "text/plain": [
       "29.0"
      ]
     },
     "execution_count": 33,
     "metadata": {},
     "output_type": "execute_result"
    }
   ],
   "source": [
    "y_test[1]"
   ]
  },
  {
   "cell_type": "code",
   "execution_count": 35,
   "metadata": {},
   "outputs": [
    {
     "data": {
      "text/plain": [
       "0.7718811115699471"
      ]
     },
     "execution_count": 35,
     "metadata": {},
     "output_type": "execute_result"
    }
   ],
   "source": [
    "from sklearn.metrics import mean_squared_error \n",
    "mse=mean_squared_error(y_test,y_pred)\n",
    "mse"
   ]
  },
  {
   "cell_type": "markdown",
   "metadata": {},
   "source": [
    "# Regressor Algorithms Implementation"
   ]
  },
  {
   "cell_type": "code",
   "execution_count": 42,
   "metadata": {},
   "outputs": [],
   "source": [
    "from sklearn.ensemble import RandomForestRegressor\n",
    "from sklearn.tree import DecisionTreeRegressor\n",
    "from sklearn.linear_model import LinearRegression\n",
    "from sklearn.svm import SVR"
   ]
  },
  {
   "cell_type": "code",
   "execution_count": 43,
   "metadata": {},
   "outputs": [
    {
     "data": {
      "text/plain": [
       "RandomForestRegressor(bootstrap=True, criterion='mse', max_depth=None,\n",
       "                      max_features='auto', max_leaf_nodes=None,\n",
       "                      min_impurity_decrease=0.0, min_impurity_split=None,\n",
       "                      min_samples_leaf=1, min_samples_split=2,\n",
       "                      min_weight_fraction_leaf=0.0, n_estimators=50,\n",
       "                      n_jobs=None, oob_score=False, random_state=0, verbose=0,\n",
       "                      warm_start=False)"
      ]
     },
     "execution_count": 43,
     "metadata": {},
     "output_type": "execute_result"
    }
   ],
   "source": [
    "alg1=RandomForestRegressor(n_estimators=50,random_state=0,criterion=\"mse\")\n",
    "alg1.fit(x_train,y_train)"
   ]
  },
  {
   "cell_type": "code",
   "execution_count": 44,
   "metadata": {},
   "outputs": [
    {
     "data": {
      "text/plain": [
       "DecisionTreeRegressor(criterion='mse', max_depth=None, max_features=None,\n",
       "                      max_leaf_nodes=None, min_impurity_decrease=0.0,\n",
       "                      min_impurity_split=None, min_samples_leaf=1,\n",
       "                      min_samples_split=2, min_weight_fraction_leaf=0.0,\n",
       "                      presort=False, random_state=None, splitter='best')"
      ]
     },
     "execution_count": 44,
     "metadata": {},
     "output_type": "execute_result"
    }
   ],
   "source": [
    "alg2=DecisionTreeRegressor()\n",
    "alg2.fit(x_train,y_train)"
   ]
  },
  {
   "cell_type": "code",
   "execution_count": 45,
   "metadata": {},
   "outputs": [
    {
     "data": {
      "text/plain": [
       "LinearRegression(copy_X=True, fit_intercept=True, n_jobs=None, normalize=False)"
      ]
     },
     "execution_count": 45,
     "metadata": {},
     "output_type": "execute_result"
    }
   ],
   "source": [
    "alg3=LinearRegression()\n",
    "alg3.fit(x_train,y_train)"
   ]
  },
  {
   "cell_type": "code",
   "execution_count": 46,
   "metadata": {},
   "outputs": [
    {
     "name": "stderr",
     "output_type": "stream",
     "text": [
      "C:\\Users\\asus\\Anaconda3\\lib\\site-packages\\sklearn\\svm\\base.py:193: FutureWarning: The default value of gamma will change from 'auto' to 'scale' in version 0.22 to account better for unscaled features. Set gamma explicitly to 'auto' or 'scale' to avoid this warning.\n",
      "  \"avoid this warning.\", FutureWarning)\n"
     ]
    },
    {
     "data": {
      "text/plain": [
       "SVR(C=1.0, cache_size=200, coef0=0.0, degree=3, epsilon=0.1,\n",
       "    gamma='auto_deprecated', kernel='rbf', max_iter=-1, shrinking=True,\n",
       "    tol=0.001, verbose=False)"
      ]
     },
     "execution_count": 46,
     "metadata": {},
     "output_type": "execute_result"
    }
   ],
   "source": [
    "alg4=SVR()\n",
    "alg4.fit(x_train,y_train)"
   ]
  },
  {
   "cell_type": "code",
   "execution_count": 47,
   "metadata": {},
   "outputs": [],
   "source": [
    "def sc(y_truth,y_pred):\n",
    "    u=((y_truth-y_pred)**2).sum()\n",
    "    v=((y_truth-y_truth.mean())**2).sum()\n",
    "    return 1-(u/v)"
   ]
  },
  {
   "cell_type": "code",
   "execution_count": 48,
   "metadata": {},
   "outputs": [],
   "source": [
    "#Prediction\n",
    "y_pred_1=alg1.predict(x_test)\n",
    "y_pred_2=alg2.predict(x_test)\n",
    "y_pred_3=alg3.predict(x_test)\n",
    "y_pred_4=alg4.predict(x_test)"
   ]
  },
  {
   "cell_type": "code",
   "execution_count": 51,
   "metadata": {},
   "outputs": [
    {
     "name": "stdout",
     "output_type": "stream",
     "text": [
      "Random Forest accuracy: 0.9902181939285286\n",
      "Decesion Tree accuracy: 0.9968439302678005\n",
      "Linear Regression accuracy: 0.9471586480553077\n",
      "SVR: 0.9761545732455273\n"
     ]
    }
   ],
   "source": [
    "print(\"Random Forest accuracy:\",sc(y_test,y_pred_1))\n",
    "print(\"Decesion Tree accuracy:\",sc(y_test,y_pred_2))\n",
    "print(\"Linear Regression accuracy:\",sc(y_test,y_pred_3))\n",
    "print(\"SVR:\",sc(y_test,y_pred_4))"
   ]
  },
  {
   "cell_type": "code",
   "execution_count": 53,
   "metadata": {},
   "outputs": [],
   "source": [
    "x_test_1=pd.DataFrame(x_test)"
   ]
  },
  {
   "cell_type": "code",
   "execution_count": 58,
   "metadata": {},
   "outputs": [
    {
     "data": {
      "text/plain": [
       "<matplotlib.legend.Legend at 0x26eb3d23e08>"
      ]
     },
     "execution_count": 58,
     "metadata": {},
     "output_type": "execute_result"
    },
    {
     "data": {
      "image/png": "[encoded data removed]",
      "text/plain": [
       "<Figure size 432x288 with 1 Axes>"
      ]
     },
     "metadata": {
      "needs_background": "light"
     },
     "output_type": "display_data"
    }
   ],
   "source": [
    "#Plotting of Predicted Data against Actual Data\n",
    "fig=plt.figure()\n",
    "ax=fig.add_axes([2,2,2,2])\n",
    "y=y_test\n",
    "x=x_test_1[1]\n",
    "y1=y_pred_1\n",
    "ax.plot(x,y,label=\"Actual\")\n",
    "ax.plot(x,y1,label=\"Predicted\")\n",
    "ax.set_xlabel(\"Year\")\n",
    "ax.set_ylabel(\"No. Of Suicides\")\n",
    "ax.set_title(\"Number of Suicides against Year\")\n",
    "ax.legend()"
   ]
  },
  {
   "cell_type": "code",
   "execution_count": null,
   "metadata": {},
   "outputs": [],
   "source": []
  }
 ],
 "metadata": {
  "kernelspec": {
   "display_name": "Python 3",
   "language": "python",
   "name": "python3"
  },
  "language_info": {
   "codemirror_mode": {
    "name": "ipython",
    "version": 3
   },
   "file_extension": ".py",
   "mimetype": "text/x-python",
   "name": "python",
   "nbconvert_exporter": "python",
   "pygments_lexer": "ipython3",
   "version": "3.7.4"
  }
 },
 "nbformat": 4,
 "nbformat_minor": 2
}
